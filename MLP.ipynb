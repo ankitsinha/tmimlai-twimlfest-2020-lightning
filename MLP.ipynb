{
  "nbformat": 4,
  "nbformat_minor": 0,
  "metadata": {
    "orig_nbformat": 2,
    "kernelspec": {
      "name": "python3",
      "display_name": "Python 3"
    },
    "colab": {
      "name": "MLP.ipynb",
      "provenance": [],
      "collapsed_sections": []
    },
    "accelerator": "GPU"
  },
  "cells": [
    {
      "cell_type": "code",
      "metadata": {
        "id": "S7oIAzTvzpyJ",
        "outputId": "3fb6c2f9-974b-496f-f6a2-915b19b8f8a1",
        "colab": {
          "base_uri": "https://localhost:8080/",
          "height": 70
        }
      },
      "source": [
        "import os\n",
        "import tensorflow as tf\n",
        "from tensorflow import keras\n",
        "from tensorflow.keras import backend as K\n",
        "import numpy as np\n",
        "import pandas as pd\n",
        "import matplotlib.pyplot as plt\n",
        "from scipy import stats\n",
        "from scipy.stats import zscore\n",
        "from math import radians, cos, sin, asin, sqrt\n",
        "import seaborn as sns\n",
        "from tensorflow.keras import metrics\n",
        "from tensorflow.keras import regularizers\n",
        "from tensorflow.keras.models import Sequential, load_model\n",
        "from tensorflow.keras.layers import Dense, Dropout, Flatten, Activation\n",
        "from tensorflow.keras.optimizers import Adam, RMSprop\n",
        "from tensorflow.keras.callbacks import TensorBoard, EarlyStopping, ModelCheckpoint\n",
        "from tensorflow.keras.utils import plot_model\n",
        "from sklearn.linear_model import Lasso, LogisticRegression\n",
        "from sklearn.feature_selection import SelectFromModel\n",
        "from sklearn.preprocessing import StandardScaler\n",
        "from sklearn import preprocessing\n",
        "from sklearn.model_selection import train_test_split\n",
        "from sklearn.preprocessing import StandardScaler\n",
        "from tensorflow.keras.models import Sequential\n",
        "from tensorflow.keras.layers import Dense\n",
        "from tensorflow.keras import regularizers\n",
        "from sklearn.metrics import classification_report\n",
        "from sklearn.metrics import confusion_matrix\n",
        "import json"
      ],
      "execution_count": null,
      "outputs": [
        {
          "output_type": "stream",
          "text": [
            "/usr/local/lib/python3.6/dist-packages/statsmodels/tools/_testing.py:19: FutureWarning: pandas.util.testing is deprecated. Use the functions in the public API at pandas.testing instead.\n",
            "  import pandas.util.testing as tm\n"
          ],
          "name": "stderr"
        }
      ]
    },
    {
      "cell_type": "code",
      "metadata": {
        "id": "x3x6RzyezpyS"
      },
      "source": [
        "data = pd.read_csv('sample_data/6-features-34k-rows.csv')\n",
        "data_df = pd.DataFrame(data)"
      ],
      "execution_count": null,
      "outputs": []
    },
    {
      "cell_type": "code",
      "metadata": {
        "id": "JTKvQ1XkzpyY",
        "outputId": "c718eb79-0634-42e0-d8cd-074b524fa08b",
        "colab": {
          "base_uri": "https://localhost:8080/",
          "height": 197
        }
      },
      "source": [
        "data_df.head()"
      ],
      "execution_count": null,
      "outputs": [
        {
          "output_type": "execute_result",
          "data": {
            "text/html": [
              "<div>\n",
              "<style scoped>\n",
              "    .dataframe tbody tr th:only-of-type {\n",
              "        vertical-align: middle;\n",
              "    }\n",
              "\n",
              "    .dataframe tbody tr th {\n",
              "        vertical-align: top;\n",
              "    }\n",
              "\n",
              "    .dataframe thead th {\n",
              "        text-align: right;\n",
              "    }\n",
              "</style>\n",
              "<table border=\"1\" class=\"dataframe\">\n",
              "  <thead>\n",
              "    <tr style=\"text-align: right;\">\n",
              "      <th></th>\n",
              "      <th>mean_fpktl</th>\n",
              "      <th>std_fpktl</th>\n",
              "      <th>mean_fiat</th>\n",
              "      <th>std_fiat</th>\n",
              "      <th>fpkt_rate</th>\n",
              "      <th>fbyte_rate</th>\n",
              "      <th>class</th>\n",
              "    </tr>\n",
              "  </thead>\n",
              "  <tbody>\n",
              "    <tr>\n",
              "      <th>0</th>\n",
              "      <td>45</td>\n",
              "      <td>3</td>\n",
              "      <td>38823</td>\n",
              "      <td>43269</td>\n",
              "      <td>0.000002</td>\n",
              "      <td>0.000075</td>\n",
              "      <td>TELNET</td>\n",
              "    </tr>\n",
              "    <tr>\n",
              "      <th>1</th>\n",
              "      <td>46</td>\n",
              "      <td>4</td>\n",
              "      <td>21859</td>\n",
              "      <td>40481</td>\n",
              "      <td>0.000050</td>\n",
              "      <td>0.002300</td>\n",
              "      <td>FTP</td>\n",
              "    </tr>\n",
              "    <tr>\n",
              "      <th>2</th>\n",
              "      <td>226</td>\n",
              "      <td>207</td>\n",
              "      <td>17430</td>\n",
              "      <td>28950</td>\n",
              "      <td>0.000002</td>\n",
              "      <td>0.000461</td>\n",
              "      <td>HTTP</td>\n",
              "    </tr>\n",
              "    <tr>\n",
              "      <th>3</th>\n",
              "      <td>225</td>\n",
              "      <td>248</td>\n",
              "      <td>40103</td>\n",
              "      <td>61819</td>\n",
              "      <td>0.000026</td>\n",
              "      <td>0.005958</td>\n",
              "      <td>localForwarding</td>\n",
              "    </tr>\n",
              "    <tr>\n",
              "      <th>4</th>\n",
              "      <td>8222</td>\n",
              "      <td>7849</td>\n",
              "      <td>9423</td>\n",
              "      <td>23976</td>\n",
              "      <td>0.000106</td>\n",
              "      <td>0.873337</td>\n",
              "      <td>remoteForwarding</td>\n",
              "    </tr>\n",
              "  </tbody>\n",
              "</table>\n",
              "</div>"
            ],
            "text/plain": [
              "   mean_fpktl  std_fpktl  mean_fiat  ...  fpkt_rate  fbyte_rate             class\n",
              "0          45          3      38823  ...   0.000002    0.000075            TELNET\n",
              "1          46          4      21859  ...   0.000050    0.002300               FTP\n",
              "2         226        207      17430  ...   0.000002    0.000461              HTTP\n",
              "3         225        248      40103  ...   0.000026    0.005958   localForwarding\n",
              "4        8222       7849       9423  ...   0.000106    0.873337  remoteForwarding\n",
              "\n",
              "[5 rows x 7 columns]"
            ]
          },
          "metadata": {
            "tags": []
          },
          "execution_count": 3
        }
      ]
    },
    {
      "cell_type": "code",
      "metadata": {
        "id": "qNZw9Ne3zpyh"
      },
      "source": [
        "# Changing class names to numerical values\n",
        "class_name =data_df['class'].unique()\n",
        "le = preprocessing.LabelEncoder()\n",
        "le.fit(data_df['class'])\n",
        "data_df['class']=le.transform(data_df['class'])\n",
        "class_id = data_df['class'].unique()"
      ],
      "execution_count": null,
      "outputs": []
    },
    {
      "cell_type": "code",
      "metadata": {
        "id": "ETODb-Plzpyn",
        "outputId": "11f9cab5-637c-4608-b9aa-f75ba002bad4",
        "colab": {
          "base_uri": "https://localhost:8080/",
          "height": 197
        }
      },
      "source": [
        "data_df.head()"
      ],
      "execution_count": null,
      "outputs": [
        {
          "output_type": "execute_result",
          "data": {
            "text/html": [
              "<div>\n",
              "<style scoped>\n",
              "    .dataframe tbody tr th:only-of-type {\n",
              "        vertical-align: middle;\n",
              "    }\n",
              "\n",
              "    .dataframe tbody tr th {\n",
              "        vertical-align: top;\n",
              "    }\n",
              "\n",
              "    .dataframe thead th {\n",
              "        text-align: right;\n",
              "    }\n",
              "</style>\n",
              "<table border=\"1\" class=\"dataframe\">\n",
              "  <thead>\n",
              "    <tr style=\"text-align: right;\">\n",
              "      <th></th>\n",
              "      <th>mean_fpktl</th>\n",
              "      <th>std_fpktl</th>\n",
              "      <th>mean_fiat</th>\n",
              "      <th>std_fiat</th>\n",
              "      <th>fpkt_rate</th>\n",
              "      <th>fbyte_rate</th>\n",
              "      <th>class</th>\n",
              "    </tr>\n",
              "  </thead>\n",
              "  <tbody>\n",
              "    <tr>\n",
              "      <th>0</th>\n",
              "      <td>45</td>\n",
              "      <td>3</td>\n",
              "      <td>38823</td>\n",
              "      <td>43269</td>\n",
              "      <td>0.000002</td>\n",
              "      <td>0.000075</td>\n",
              "      <td>3</td>\n",
              "    </tr>\n",
              "    <tr>\n",
              "      <th>1</th>\n",
              "      <td>46</td>\n",
              "      <td>4</td>\n",
              "      <td>21859</td>\n",
              "      <td>40481</td>\n",
              "      <td>0.000050</td>\n",
              "      <td>0.002300</td>\n",
              "      <td>1</td>\n",
              "    </tr>\n",
              "    <tr>\n",
              "      <th>2</th>\n",
              "      <td>226</td>\n",
              "      <td>207</td>\n",
              "      <td>17430</td>\n",
              "      <td>28950</td>\n",
              "      <td>0.000002</td>\n",
              "      <td>0.000461</td>\n",
              "      <td>2</td>\n",
              "    </tr>\n",
              "    <tr>\n",
              "      <th>3</th>\n",
              "      <td>225</td>\n",
              "      <td>248</td>\n",
              "      <td>40103</td>\n",
              "      <td>61819</td>\n",
              "      <td>0.000026</td>\n",
              "      <td>0.005958</td>\n",
              "      <td>5</td>\n",
              "    </tr>\n",
              "    <tr>\n",
              "      <th>4</th>\n",
              "      <td>8222</td>\n",
              "      <td>7849</td>\n",
              "      <td>9423</td>\n",
              "      <td>23976</td>\n",
              "      <td>0.000106</td>\n",
              "      <td>0.873337</td>\n",
              "      <td>6</td>\n",
              "    </tr>\n",
              "  </tbody>\n",
              "</table>\n",
              "</div>"
            ],
            "text/plain": [
              "   mean_fpktl  std_fpktl  mean_fiat  std_fiat  fpkt_rate  fbyte_rate  class\n",
              "0          45          3      38823     43269   0.000002    0.000075      3\n",
              "1          46          4      21859     40481   0.000050    0.002300      1\n",
              "2         226        207      17430     28950   0.000002    0.000461      2\n",
              "3         225        248      40103     61819   0.000026    0.005958      5\n",
              "4        8222       7849       9423     23976   0.000106    0.873337      6"
            ]
          },
          "metadata": {
            "tags": []
          },
          "execution_count": 5
        }
      ]
    },
    {
      "cell_type": "code",
      "metadata": {
        "id": "0gBcx4_Fzpyu",
        "outputId": "d3065afb-5a13-4c62-c1bd-008087aeeb4a",
        "colab": {
          "base_uri": "https://localhost:8080/",
          "height": 33
        }
      },
      "source": [
        "# Mapping class names and ids(numerical values)\n",
        "class_dict={}\n",
        "for i in range(0,len(class_name)):\n",
        "    class_dict[int(class_id[i])]=class_name[i]\n",
        "\n",
        "print(class_dict)"
      ],
      "execution_count": null,
      "outputs": [
        {
          "output_type": "stream",
          "text": [
            "{3: 'TELNET', 1: 'FTP', 2: 'HTTP', 5: 'localForwarding', 6: 'remoteForwarding', 7: 'scp', 8: 'sftp', 10: 'x11', 9: 'shell', 0: 'DNS', 4: 'lime'}\n"
          ],
          "name": "stdout"
        }
      ]
    },
    {
      "cell_type": "code",
      "metadata": {
        "tags": [],
        "id": "c4KrIO38zpyz",
        "outputId": "17a8ed0a-c373-4aa0-fabe-5b83cecf2783",
        "colab": {
          "base_uri": "https://localhost:8080/",
          "height": 250
        }
      },
      "source": [
        "data_df.info()"
      ],
      "execution_count": null,
      "outputs": [
        {
          "output_type": "stream",
          "text": [
            "<class 'pandas.core.frame.DataFrame'>\n",
            "RangeIndex: 34803 entries, 0 to 34802\n",
            "Data columns (total 7 columns):\n",
            " #   Column      Non-Null Count  Dtype  \n",
            "---  ------      --------------  -----  \n",
            " 0   mean_fpktl  34803 non-null  int64  \n",
            " 1   std_fpktl   34803 non-null  int64  \n",
            " 2   mean_fiat   34803 non-null  int64  \n",
            " 3   std_fiat    34803 non-null  int64  \n",
            " 4   fpkt_rate   34803 non-null  float64\n",
            " 5   fbyte_rate  34803 non-null  float64\n",
            " 6   class       34803 non-null  int64  \n",
            "dtypes: float64(2), int64(5)\n",
            "memory usage: 1.9 MB\n"
          ],
          "name": "stdout"
        }
      ]
    },
    {
      "cell_type": "code",
      "metadata": {
        "id": "ICy84eOOzpy6"
      },
      "source": [
        "# Dividing into training and testing sets 80:20\n",
        "#X = data_df.drop(['class'],axis=1)\n",
        "X = data_df[['mean_fpktl','std_fpktl','mean_fiat','std_fiat','fpkt_rate','fbyte_rate']]\n",
        "y = np.ravel(data_df['class'])\n",
        "X_train, X_test, y_train, y_test = train_test_split(X,y,test_size=0.2)"
      ],
      "execution_count": null,
      "outputs": []
    },
    {
      "cell_type": "code",
      "metadata": {
        "tags": [],
        "id": "bnWErf7izpzA"
      },
      "source": [
        "# Find the min and max values for each column\n",
        "def dataset_minmax(dataset):\n",
        "\tminmax = list()\n",
        "\tfor i in range(len(dataset[0])):\n",
        "\t\tcol_values = [row[i] for row in dataset]\n",
        "\t\tvalue_min = min(col_values)\n",
        "\t\tvalue_max = max(col_values)\n",
        "\t\tminmax.append([value_min, value_max])\n",
        "\treturn minmax\n",
        "\n",
        "def normalize_data(dataset,minmax,convNDArray=False):\n",
        "\t# minmax = dataset_minmax(dataFrame.values)\n",
        "\tfor row in dataset:\n",
        "\t\tfor i in range(len(row)):\n",
        "\t\t\trow[i] = (row[i] - minmax[i][0]) / (minmax[i][1] - minmax[i][0])\n",
        "\tif convNDArray:\n",
        "\t\treturn dataset\n",
        "\tcolList = list(dataFrame.columns.values)\n",
        "\tsample_dict = {}\n",
        "\tfor i in range(len(colList)):\n",
        "\t\tsample_dict[colList[i]] = data[:, i]\n",
        "\tdataFrame = pd.DataFrame(sample_dict)\n",
        "\treturn dataFrame"
      ],
      "execution_count": null,
      "outputs": []
    },
    {
      "cell_type": "code",
      "metadata": {
        "id": "rPfJACl-zpzG"
      },
      "source": [
        "# calculate column means\n",
        "def column_means(dataset):\n",
        "\tmeans = [0 for i in range(len(dataset[0]))]\n",
        "\tfor i in range(len(dataset[0])):\n",
        "\t\tcol_values = [row[i] for row in dataset]\n",
        "\t\tmeans[i] = sum(col_values) / float(len(dataset))\n",
        "\treturn means\n",
        " \n",
        "# calculate column standard deviations\n",
        "def column_stdevs(dataset, means):\n",
        "\t#dataset = dataFrame.values\n",
        "\tstdevs = [0 for i in range(len(dataset[0]))]\n",
        "\tfor i in range(len(dataset[0])):\n",
        "\t\tvariance = [pow(row[i]-means[i], 2) for row in dataset]\n",
        "\t\tstdevs[i] = sum(variance)\n",
        "\tstdevs = [sqrt(x/(float(len(dataset)-1))) for x in stdevs]\n",
        "\treturn stdevs\n",
        " \n",
        "# standardize dataset\n",
        "def standardize_data(dataset, means, stdevs,convNDArray=False):\n",
        "\t#dataset = dataFrame.values\n",
        "\tfor row in dataset:\n",
        "\t\tfor i in range(len(row)):\n",
        "\t\t\trow[i] = (row[i] - means[i]) / stdevs[i]\n",
        "\tif convNDArray:\n",
        "\t\treturn dataset\n",
        "\tcolList = list(dataFrame.columns.values)\n",
        "\tsample_dict = {}\n",
        "\tfor i in range(len(colList)):\n",
        "\t\tsample_dict[colList[i]] = dataset[:, i]\n",
        "\tdataFrame = pd.DataFrame(sample_dict)\n",
        "\treturn dataFrame"
      ],
      "execution_count": null,
      "outputs": []
    },
    {
      "cell_type": "code",
      "metadata": {
        "id": "0-EynRNqa5Uw"
      },
      "source": [
        "def standardize_data1(dataFrame, means, stdevs,convNDArray=False):\n",
        "\tdataset = dataFrame.values\n",
        "\tfor row in dataset:\n",
        "\t\tfor i in range(len(row)):\n",
        "\t\t\trow[i] = (row[i] - means[i]) / stdevs[i]\n",
        "\tif convNDArray:\n",
        "\t\treturn dataset\n",
        "\tcolList = list(dataFrame.columns.values)\n",
        "\tsample_dict = {}\n",
        "\tfor i in range(len(colList)):\n",
        "\t\tsample_dict[colList[i]] = dataset[:, i]\n",
        "\tdataFrame = pd.DataFrame(sample_dict)\n",
        "\treturn dataFrame"
      ],
      "execution_count": null,
      "outputs": []
    },
    {
      "cell_type": "code",
      "metadata": {
        "id": "Q2lVFH1MzpzM",
        "outputId": "c508ec2c-aa78-4239-e274-701d7b26cb67",
        "colab": {
          "base_uri": "https://localhost:8080/",
          "height": 197
        }
      },
      "source": [
        "minmax = dataset_minmax(X_train.values)\n",
        "means = column_means(X_train.values)\n",
        "stddevs = column_stdevs(X_train.values,means)\n",
        "A = standardize_data1(X_train,means,stddevs)\n",
        "data_df.head()"
      ],
      "execution_count": null,
      "outputs": [
        {
          "output_type": "execute_result",
          "data": {
            "text/html": [
              "<div>\n",
              "<style scoped>\n",
              "    .dataframe tbody tr th:only-of-type {\n",
              "        vertical-align: middle;\n",
              "    }\n",
              "\n",
              "    .dataframe tbody tr th {\n",
              "        vertical-align: top;\n",
              "    }\n",
              "\n",
              "    .dataframe thead th {\n",
              "        text-align: right;\n",
              "    }\n",
              "</style>\n",
              "<table border=\"1\" class=\"dataframe\">\n",
              "  <thead>\n",
              "    <tr style=\"text-align: right;\">\n",
              "      <th></th>\n",
              "      <th>mean_fpktl</th>\n",
              "      <th>std_fpktl</th>\n",
              "      <th>mean_fiat</th>\n",
              "      <th>std_fiat</th>\n",
              "      <th>fpkt_rate</th>\n",
              "      <th>fbyte_rate</th>\n",
              "      <th>class</th>\n",
              "    </tr>\n",
              "  </thead>\n",
              "  <tbody>\n",
              "    <tr>\n",
              "      <th>0</th>\n",
              "      <td>45</td>\n",
              "      <td>3</td>\n",
              "      <td>38823</td>\n",
              "      <td>43269</td>\n",
              "      <td>0.000002</td>\n",
              "      <td>0.000075</td>\n",
              "      <td>3</td>\n",
              "    </tr>\n",
              "    <tr>\n",
              "      <th>1</th>\n",
              "      <td>46</td>\n",
              "      <td>4</td>\n",
              "      <td>21859</td>\n",
              "      <td>40481</td>\n",
              "      <td>0.000050</td>\n",
              "      <td>0.002300</td>\n",
              "      <td>1</td>\n",
              "    </tr>\n",
              "    <tr>\n",
              "      <th>2</th>\n",
              "      <td>226</td>\n",
              "      <td>207</td>\n",
              "      <td>17430</td>\n",
              "      <td>28950</td>\n",
              "      <td>0.000002</td>\n",
              "      <td>0.000461</td>\n",
              "      <td>2</td>\n",
              "    </tr>\n",
              "    <tr>\n",
              "      <th>3</th>\n",
              "      <td>225</td>\n",
              "      <td>248</td>\n",
              "      <td>40103</td>\n",
              "      <td>61819</td>\n",
              "      <td>0.000026</td>\n",
              "      <td>0.005958</td>\n",
              "      <td>5</td>\n",
              "    </tr>\n",
              "    <tr>\n",
              "      <th>4</th>\n",
              "      <td>8222</td>\n",
              "      <td>7849</td>\n",
              "      <td>9423</td>\n",
              "      <td>23976</td>\n",
              "      <td>0.000106</td>\n",
              "      <td>0.873337</td>\n",
              "      <td>6</td>\n",
              "    </tr>\n",
              "  </tbody>\n",
              "</table>\n",
              "</div>"
            ],
            "text/plain": [
              "   mean_fpktl  std_fpktl  mean_fiat  std_fiat  fpkt_rate  fbyte_rate  class\n",
              "0          45          3      38823     43269   0.000002    0.000075      3\n",
              "1          46          4      21859     40481   0.000050    0.002300      1\n",
              "2         226        207      17430     28950   0.000002    0.000461      2\n",
              "3         225        248      40103     61819   0.000026    0.005958      5\n",
              "4        8222       7849       9423     23976   0.000106    0.873337      6"
            ]
          },
          "metadata": {
            "tags": []
          },
          "execution_count": 12
        }
      ]
    },
    {
      "cell_type": "code",
      "metadata": {
        "id": "3rBG3-WHdyn7",
        "outputId": "c369abe0-50be-42ca-fd81-e14f66f8363d",
        "colab": {
          "base_uri": "https://localhost:8080/",
          "height": 197
        }
      },
      "source": [
        "A.head()"
      ],
      "execution_count": null,
      "outputs": [
        {
          "output_type": "execute_result",
          "data": {
            "text/html": [
              "<div>\n",
              "<style scoped>\n",
              "    .dataframe tbody tr th:only-of-type {\n",
              "        vertical-align: middle;\n",
              "    }\n",
              "\n",
              "    .dataframe tbody tr th {\n",
              "        vertical-align: top;\n",
              "    }\n",
              "\n",
              "    .dataframe thead th {\n",
              "        text-align: right;\n",
              "    }\n",
              "</style>\n",
              "<table border=\"1\" class=\"dataframe\">\n",
              "  <thead>\n",
              "    <tr style=\"text-align: right;\">\n",
              "      <th></th>\n",
              "      <th>mean_fpktl</th>\n",
              "      <th>std_fpktl</th>\n",
              "      <th>mean_fiat</th>\n",
              "      <th>std_fiat</th>\n",
              "      <th>fpkt_rate</th>\n",
              "      <th>fbyte_rate</th>\n",
              "    </tr>\n",
              "  </thead>\n",
              "  <tbody>\n",
              "    <tr>\n",
              "      <th>0</th>\n",
              "      <td>-0.531617</td>\n",
              "      <td>-0.330794</td>\n",
              "      <td>0.409007</td>\n",
              "      <td>0.897591</td>\n",
              "      <td>-0.465548</td>\n",
              "      <td>-0.522159</td>\n",
              "    </tr>\n",
              "    <tr>\n",
              "      <th>1</th>\n",
              "      <td>-0.524640</td>\n",
              "      <td>-0.338927</td>\n",
              "      <td>0.732300</td>\n",
              "      <td>0.576005</td>\n",
              "      <td>-0.516072</td>\n",
              "      <td>-0.523885</td>\n",
              "    </tr>\n",
              "    <tr>\n",
              "      <th>2</th>\n",
              "      <td>0.188491</td>\n",
              "      <td>-0.311987</td>\n",
              "      <td>-0.774086</td>\n",
              "      <td>-1.055495</td>\n",
              "      <td>0.648730</td>\n",
              "      <td>0.628389</td>\n",
              "    </tr>\n",
              "    <tr>\n",
              "      <th>3</th>\n",
              "      <td>3.557798</td>\n",
              "      <td>3.767713</td>\n",
              "      <td>-0.504520</td>\n",
              "      <td>0.000822</td>\n",
              "      <td>-0.290028</td>\n",
              "      <td>0.713491</td>\n",
              "    </tr>\n",
              "    <tr>\n",
              "      <th>4</th>\n",
              "      <td>-0.469324</td>\n",
              "      <td>-0.234724</td>\n",
              "      <td>-0.378453</td>\n",
              "      <td>-0.437441</td>\n",
              "      <td>-0.343948</td>\n",
              "      <td>-0.503678</td>\n",
              "    </tr>\n",
              "  </tbody>\n",
              "</table>\n",
              "</div>"
            ],
            "text/plain": [
              "   mean_fpktl  std_fpktl  mean_fiat  std_fiat  fpkt_rate  fbyte_rate\n",
              "0   -0.531617  -0.330794   0.409007  0.897591  -0.465548   -0.522159\n",
              "1   -0.524640  -0.338927   0.732300  0.576005  -0.516072   -0.523885\n",
              "2    0.188491  -0.311987  -0.774086 -1.055495   0.648730    0.628389\n",
              "3    3.557798   3.767713  -0.504520  0.000822  -0.290028    0.713491\n",
              "4   -0.469324  -0.234724  -0.378453 -0.437441  -0.343948   -0.503678"
            ]
          },
          "metadata": {
            "tags": []
          },
          "execution_count": 13
        }
      ]
    },
    {
      "cell_type": "code",
      "metadata": {
        "tags": [],
        "id": "ZRzD2ZRqzpzS",
        "outputId": "3727034c-312b-4e9b-a1a9-bcf3f04af786",
        "colab": {
          "base_uri": "https://localhost:8080/",
          "height": 33
        }
      },
      "source": [
        "print((X_train.values).shape)"
      ],
      "execution_count": null,
      "outputs": [
        {
          "output_type": "stream",
          "text": [
            "(27842, 6)\n"
          ],
          "name": "stdout"
        }
      ]
    },
    {
      "cell_type": "code",
      "metadata": {
        "tags": [],
        "id": "v7GF9OHtzpzX",
        "outputId": "f05a1f32-f9a4-4659-facc-9929a57a481a",
        "colab": {
          "base_uri": "https://localhost:8080/",
          "height": 67
        }
      },
      "source": [
        "print(len(minmax))\n",
        "print(len(means))\n",
        "print(len(stddevs))"
      ],
      "execution_count": null,
      "outputs": [
        {
          "output_type": "stream",
          "text": [
            "6\n",
            "6\n",
            "6\n"
          ],
          "name": "stdout"
        }
      ]
    },
    {
      "cell_type": "code",
      "metadata": {
        "id": "URs1bBO4zpzd",
        "outputId": "43b4077c-2a98-4f73-8be1-556fd0719974",
        "colab": {
          "base_uri": "https://localhost:8080/",
          "height": 33
        }
      },
      "source": [
        "X_train = standardize_data(X_train.values,means,stddevs,True)\n",
        "X_test = standardize_data(X_test.values,means,stddevs,True)\n",
        "print(X_test.shape)"
      ],
      "execution_count": null,
      "outputs": [
        {
          "output_type": "stream",
          "text": [
            "(6961, 6)\n"
          ],
          "name": "stdout"
        }
      ]
    },
    {
      "cell_type": "code",
      "metadata": {
        "id": "12WPNjSzzpzi"
      },
      "source": [
        "# Defining the model\n",
        "layers = 50\n",
        "layers -= 7\n",
        "model = Sequential()\n",
        "model.add(Dense((256), activation='relu', input_shape=(6,)))\n",
        "model.add(Dropout(0.2))\n",
        "model.add(Dense(1024, activation='relu'))\n",
        "model.add(Dropout(0.3))\n",
        "model.add(Dense(128, activation='relu'))\n",
        "model.add(Dropout(0.2))\n",
        "for i in range(0,layers):\n",
        "    model.add(Dense(128, activation='relu'))\n",
        "model.add(Dense(64, activation='relu'))\n",
        "model.add(Dropout(0.1))\n",
        "model.add(Dense(32, activation='relu'))\n",
        "model.add(Dropout(0.1))\n",
        "model.add(Dense(16, activation='relu'))\n",
        "model.add(Dense(11,activation='softmax'))"
      ],
      "execution_count": null,
      "outputs": []
    },
    {
      "cell_type": "code",
      "metadata": {
        "tags": [],
        "id": "swomndU7zpzo",
        "outputId": "d5d4382d-f784-4b71-cc75-0ed899ba9bbf",
        "colab": {
          "base_uri": "https://localhost:8080/",
          "height": 1000
        }
      },
      "source": [
        "model.summary()"
      ],
      "execution_count": null,
      "outputs": [
        {
          "output_type": "stream",
          "text": [
            "Model: \"sequential\"\n",
            "_________________________________________________________________\n",
            "Layer (type)                 Output Shape              Param #   \n",
            "=================================================================\n",
            "dense (Dense)                (None, 256)               1792      \n",
            "_________________________________________________________________\n",
            "dropout (Dropout)            (None, 256)               0         \n",
            "_________________________________________________________________\n",
            "dense_1 (Dense)              (None, 1024)              263168    \n",
            "_________________________________________________________________\n",
            "dropout_1 (Dropout)          (None, 1024)              0         \n",
            "_________________________________________________________________\n",
            "dense_2 (Dense)              (None, 128)               131200    \n",
            "_________________________________________________________________\n",
            "dropout_2 (Dropout)          (None, 128)               0         \n",
            "_________________________________________________________________\n",
            "dense_3 (Dense)              (None, 128)               16512     \n",
            "_________________________________________________________________\n",
            "dense_4 (Dense)              (None, 128)               16512     \n",
            "_________________________________________________________________\n",
            "dense_5 (Dense)              (None, 128)               16512     \n",
            "_________________________________________________________________\n",
            "dense_6 (Dense)              (None, 128)               16512     \n",
            "_________________________________________________________________\n",
            "dense_7 (Dense)              (None, 128)               16512     \n",
            "_________________________________________________________________\n",
            "dense_8 (Dense)              (None, 128)               16512     \n",
            "_________________________________________________________________\n",
            "dense_9 (Dense)              (None, 128)               16512     \n",
            "_________________________________________________________________\n",
            "dense_10 (Dense)             (None, 128)               16512     \n",
            "_________________________________________________________________\n",
            "dense_11 (Dense)             (None, 128)               16512     \n",
            "_________________________________________________________________\n",
            "dense_12 (Dense)             (None, 128)               16512     \n",
            "_________________________________________________________________\n",
            "dense_13 (Dense)             (None, 128)               16512     \n",
            "_________________________________________________________________\n",
            "dense_14 (Dense)             (None, 128)               16512     \n",
            "_________________________________________________________________\n",
            "dense_15 (Dense)             (None, 128)               16512     \n",
            "_________________________________________________________________\n",
            "dense_16 (Dense)             (None, 128)               16512     \n",
            "_________________________________________________________________\n",
            "dense_17 (Dense)             (None, 128)               16512     \n",
            "_________________________________________________________________\n",
            "dense_18 (Dense)             (None, 128)               16512     \n",
            "_________________________________________________________________\n",
            "dense_19 (Dense)             (None, 128)               16512     \n",
            "_________________________________________________________________\n",
            "dense_20 (Dense)             (None, 128)               16512     \n",
            "_________________________________________________________________\n",
            "dense_21 (Dense)             (None, 128)               16512     \n",
            "_________________________________________________________________\n",
            "dense_22 (Dense)             (None, 128)               16512     \n",
            "_________________________________________________________________\n",
            "dense_23 (Dense)             (None, 128)               16512     \n",
            "_________________________________________________________________\n",
            "dense_24 (Dense)             (None, 128)               16512     \n",
            "_________________________________________________________________\n",
            "dense_25 (Dense)             (None, 128)               16512     \n",
            "_________________________________________________________________\n",
            "dense_26 (Dense)             (None, 128)               16512     \n",
            "_________________________________________________________________\n",
            "dense_27 (Dense)             (None, 128)               16512     \n",
            "_________________________________________________________________\n",
            "dense_28 (Dense)             (None, 128)               16512     \n",
            "_________________________________________________________________\n",
            "dense_29 (Dense)             (None, 128)               16512     \n",
            "_________________________________________________________________\n",
            "dense_30 (Dense)             (None, 128)               16512     \n",
            "_________________________________________________________________\n",
            "dense_31 (Dense)             (None, 128)               16512     \n",
            "_________________________________________________________________\n",
            "dense_32 (Dense)             (None, 128)               16512     \n",
            "_________________________________________________________________\n",
            "dense_33 (Dense)             (None, 128)               16512     \n",
            "_________________________________________________________________\n",
            "dense_34 (Dense)             (None, 128)               16512     \n",
            "_________________________________________________________________\n",
            "dense_35 (Dense)             (None, 128)               16512     \n",
            "_________________________________________________________________\n",
            "dense_36 (Dense)             (None, 128)               16512     \n",
            "_________________________________________________________________\n",
            "dense_37 (Dense)             (None, 128)               16512     \n",
            "_________________________________________________________________\n",
            "dense_38 (Dense)             (None, 128)               16512     \n",
            "_________________________________________________________________\n",
            "dense_39 (Dense)             (None, 128)               16512     \n",
            "_________________________________________________________________\n",
            "dense_40 (Dense)             (None, 128)               16512     \n",
            "_________________________________________________________________\n",
            "dense_41 (Dense)             (None, 128)               16512     \n",
            "_________________________________________________________________\n",
            "dense_42 (Dense)             (None, 128)               16512     \n",
            "_________________________________________________________________\n",
            "dense_43 (Dense)             (None, 128)               16512     \n",
            "_________________________________________________________________\n",
            "dense_44 (Dense)             (None, 128)               16512     \n",
            "_________________________________________________________________\n",
            "dense_45 (Dense)             (None, 128)               16512     \n",
            "_________________________________________________________________\n",
            "dense_46 (Dense)             (None, 64)                8256      \n",
            "_________________________________________________________________\n",
            "dropout_3 (Dropout)          (None, 64)                0         \n",
            "_________________________________________________________________\n",
            "dense_47 (Dense)             (None, 32)                2080      \n",
            "_________________________________________________________________\n",
            "dropout_4 (Dropout)          (None, 32)                0         \n",
            "_________________________________________________________________\n",
            "dense_48 (Dense)             (None, 16)                528       \n",
            "_________________________________________________________________\n",
            "dense_49 (Dense)             (None, 11)                187       \n",
            "=================================================================\n",
            "Total params: 1,117,227\n",
            "Trainable params: 1,117,227\n",
            "Non-trainable params: 0\n",
            "_________________________________________________________________\n"
          ],
          "name": "stdout"
        }
      ]
    },
    {
      "cell_type": "code",
      "metadata": {
        "tags": [
          "outputPrepend"
        ],
        "id": "RHhrj1Ldzpzu",
        "outputId": "0db9a9f6-70d5-4b4b-e05b-aef3b985cb08",
        "colab": {
          "base_uri": "https://localhost:8080/",
          "height": 1000
        }
      },
      "source": [
        "# Training the model\n",
        "model.compile(loss='sparse_categorical_crossentropy',\n",
        "              optimizer='adam',\n",
        "              metrics=['accuracy'])\n",
        "                   \n",
        "history = model.fit(X_train, y_train,epochs=100, batch_size=256, verbose=1,validation_data=(X_test,y_test))"
      ],
      "execution_count": null,
      "outputs": [
        {
          "output_type": "stream",
          "text": [
            "Epoch 1/100\n",
            "109/109 [==============================] - 1s 11ms/step - loss: 2.0468 - accuracy: 0.3938 - val_loss: 1.8124 - val_accuracy: 0.4271\n",
            "Epoch 2/100\n",
            "109/109 [==============================] - 1s 7ms/step - loss: 1.4653 - accuracy: 0.4864 - val_loss: 1.1951 - val_accuracy: 0.5162\n",
            "Epoch 3/100\n",
            "109/109 [==============================] - 1s 7ms/step - loss: 1.0620 - accuracy: 0.6031 - val_loss: 0.8974 - val_accuracy: 0.6717\n",
            "Epoch 4/100\n",
            "109/109 [==============================] - 1s 7ms/step - loss: 0.9111 - accuracy: 0.6541 - val_loss: 0.7992 - val_accuracy: 0.6683\n",
            "Epoch 5/100\n",
            "109/109 [==============================] - 1s 7ms/step - loss: 0.8370 - accuracy: 0.6730 - val_loss: 0.7753 - val_accuracy: 0.6815\n",
            "Epoch 6/100\n",
            "109/109 [==============================] - 1s 7ms/step - loss: 0.7987 - accuracy: 0.6885 - val_loss: 0.7457 - val_accuracy: 0.6953\n",
            "Epoch 7/100\n",
            "109/109 [==============================] - 1s 7ms/step - loss: 0.7901 - accuracy: 0.6897 - val_loss: 0.7459 - val_accuracy: 0.6982\n",
            "Epoch 8/100\n",
            "109/109 [==============================] - 1s 7ms/step - loss: 0.7854 - accuracy: 0.6975 - val_loss: 0.7355 - val_accuracy: 0.7401\n",
            "Epoch 9/100\n",
            "109/109 [==============================] - 1s 7ms/step - loss: 0.7343 - accuracy: 0.7187 - val_loss: 0.6802 - val_accuracy: 0.7456\n",
            "Epoch 10/100\n",
            "109/109 [==============================] - 1s 7ms/step - loss: 0.7105 - accuracy: 0.7314 - val_loss: 0.6706 - val_accuracy: 0.7599\n",
            "Epoch 11/100\n",
            "109/109 [==============================] - 1s 7ms/step - loss: 0.7034 - accuracy: 0.7337 - val_loss: 0.6850 - val_accuracy: 0.7407\n",
            "Epoch 12/100\n",
            "109/109 [==============================] - 1s 7ms/step - loss: 0.6802 - accuracy: 0.7476 - val_loss: 0.6591 - val_accuracy: 0.7543\n",
            "Epoch 13/100\n",
            "109/109 [==============================] - 1s 7ms/step - loss: 0.6642 - accuracy: 0.7497 - val_loss: 0.6134 - val_accuracy: 0.7786\n",
            "Epoch 14/100\n",
            "109/109 [==============================] - 1s 7ms/step - loss: 0.6723 - accuracy: 0.7492 - val_loss: 0.6078 - val_accuracy: 0.7786\n",
            "Epoch 15/100\n",
            "109/109 [==============================] - 1s 7ms/step - loss: 0.6471 - accuracy: 0.7584 - val_loss: 0.6455 - val_accuracy: 0.7305\n",
            "Epoch 16/100\n",
            "109/109 [==============================] - 1s 7ms/step - loss: 0.6391 - accuracy: 0.7606 - val_loss: 0.5739 - val_accuracy: 0.7930\n",
            "Epoch 17/100\n",
            "109/109 [==============================] - 1s 7ms/step - loss: 0.6147 - accuracy: 0.7697 - val_loss: 0.5767 - val_accuracy: 0.7770\n",
            "Epoch 18/100\n",
            "109/109 [==============================] - 1s 7ms/step - loss: 0.6387 - accuracy: 0.7640 - val_loss: 0.5799 - val_accuracy: 0.7809\n",
            "Epoch 19/100\n",
            "109/109 [==============================] - 1s 7ms/step - loss: 0.6226 - accuracy: 0.7679 - val_loss: 0.5341 - val_accuracy: 0.8026\n",
            "Epoch 20/100\n",
            "109/109 [==============================] - 1s 7ms/step - loss: 0.5917 - accuracy: 0.7799 - val_loss: 0.5293 - val_accuracy: 0.8007\n",
            "Epoch 21/100\n",
            "109/109 [==============================] - 1s 7ms/step - loss: 0.5796 - accuracy: 0.7839 - val_loss: 0.4999 - val_accuracy: 0.8052\n",
            "Epoch 22/100\n",
            "109/109 [==============================] - 1s 7ms/step - loss: 0.7918 - accuracy: 0.7530 - val_loss: 0.7298 - val_accuracy: 0.7232\n",
            "Epoch 23/100\n",
            "109/109 [==============================] - 1s 7ms/step - loss: 0.6591 - accuracy: 0.7560 - val_loss: 0.5184 - val_accuracy: 0.7980\n",
            "Epoch 24/100\n",
            "109/109 [==============================] - 1s 7ms/step - loss: 0.5750 - accuracy: 0.7801 - val_loss: 0.5417 - val_accuracy: 0.7747\n",
            "Epoch 25/100\n",
            "109/109 [==============================] - 1s 7ms/step - loss: 0.5766 - accuracy: 0.7787 - val_loss: 0.5121 - val_accuracy: 0.7995\n",
            "Epoch 26/100\n",
            "109/109 [==============================] - 1s 7ms/step - loss: 0.5674 - accuracy: 0.7846 - val_loss: 0.5040 - val_accuracy: 0.8269\n",
            "Epoch 27/100\n",
            "109/109 [==============================] - 1s 7ms/step - loss: 0.5833 - accuracy: 0.7928 - val_loss: 0.4860 - val_accuracy: 0.8359\n",
            "Epoch 28/100\n",
            "109/109 [==============================] - 1s 7ms/step - loss: 0.5425 - accuracy: 0.8044 - val_loss: 0.4751 - val_accuracy: 0.8426\n",
            "Epoch 29/100\n",
            "109/109 [==============================] - 1s 7ms/step - loss: 0.6443 - accuracy: 0.7715 - val_loss: 0.7304 - val_accuracy: 0.7939\n",
            "Epoch 30/100\n",
            "109/109 [==============================] - 1s 7ms/step - loss: 0.6553 - accuracy: 0.7813 - val_loss: 0.5267 - val_accuracy: 0.8088\n",
            "Epoch 31/100\n",
            "109/109 [==============================] - 1s 7ms/step - loss: 0.5799 - accuracy: 0.7916 - val_loss: 0.4874 - val_accuracy: 0.8099\n",
            "Epoch 32/100\n",
            "109/109 [==============================] - 1s 7ms/step - loss: 0.5420 - accuracy: 0.7977 - val_loss: 0.4880 - val_accuracy: 0.8233\n",
            "Epoch 33/100\n",
            "109/109 [==============================] - 1s 7ms/step - loss: 0.5331 - accuracy: 0.8121 - val_loss: 0.4615 - val_accuracy: 0.8558\n",
            "Epoch 34/100\n",
            "109/109 [==============================] - 1s 7ms/step - loss: 0.5279 - accuracy: 0.8170 - val_loss: 0.4483 - val_accuracy: 0.8505\n",
            "Epoch 35/100\n",
            "109/109 [==============================] - 1s 7ms/step - loss: 0.5269 - accuracy: 0.8162 - val_loss: 0.4863 - val_accuracy: 0.8105\n",
            "Epoch 36/100\n",
            "109/109 [==============================] - 1s 7ms/step - loss: 0.5229 - accuracy: 0.8205 - val_loss: 0.4738 - val_accuracy: 0.8275\n",
            "Epoch 37/100\n",
            "109/109 [==============================] - 1s 7ms/step - loss: 0.5339 - accuracy: 0.8166 - val_loss: 0.4792 - val_accuracy: 0.8292\n",
            "Epoch 38/100\n",
            "109/109 [==============================] - 1s 7ms/step - loss: 0.5331 - accuracy: 0.8174 - val_loss: 0.4628 - val_accuracy: 0.8388\n",
            "Epoch 39/100\n",
            "109/109 [==============================] - 1s 7ms/step - loss: 0.5550 - accuracy: 0.8164 - val_loss: 0.5799 - val_accuracy: 0.8265\n",
            "Epoch 40/100\n",
            "109/109 [==============================] - 1s 7ms/step - loss: 0.5542 - accuracy: 0.8003 - val_loss: 0.4575 - val_accuracy: 0.8438\n",
            "Epoch 41/100\n",
            "109/109 [==============================] - 1s 7ms/step - loss: 0.5347 - accuracy: 0.8109 - val_loss: 0.5368 - val_accuracy: 0.8226\n",
            "Epoch 42/100\n",
            "109/109 [==============================] - 1s 7ms/step - loss: 0.5234 - accuracy: 0.8203 - val_loss: 0.4957 - val_accuracy: 0.8278\n",
            "Epoch 43/100\n",
            "109/109 [==============================] - 1s 7ms/step - loss: 0.5130 - accuracy: 0.8193 - val_loss: 0.4617 - val_accuracy: 0.8411\n",
            "Epoch 44/100\n",
            "109/109 [==============================] - 1s 7ms/step - loss: 0.5224 - accuracy: 0.8192 - val_loss: 0.4542 - val_accuracy: 0.8424\n",
            "Epoch 45/100\n",
            "109/109 [==============================] - 1s 7ms/step - loss: 0.5722 - accuracy: 0.7926 - val_loss: 0.5650 - val_accuracy: 0.7690\n",
            "Epoch 46/100\n",
            "109/109 [==============================] - 1s 7ms/step - loss: 0.6717 - accuracy: 0.7450 - val_loss: 0.5843 - val_accuracy: 0.7750\n",
            "Epoch 47/100\n",
            "109/109 [==============================] - 1s 7ms/step - loss: 0.6157 - accuracy: 0.7699 - val_loss: 0.6802 - val_accuracy: 0.7470\n",
            "Epoch 48/100\n",
            "109/109 [==============================] - 1s 7ms/step - loss: 0.6082 - accuracy: 0.7846 - val_loss: 0.5026 - val_accuracy: 0.8354\n",
            "Epoch 49/100\n",
            "109/109 [==============================] - 1s 7ms/step - loss: 0.6098 - accuracy: 0.7802 - val_loss: 0.5333 - val_accuracy: 0.8171\n",
            "Epoch 50/100\n",
            "109/109 [==============================] - 1s 7ms/step - loss: 0.5769 - accuracy: 0.7984 - val_loss: 0.5240 - val_accuracy: 0.8098\n",
            "Epoch 51/100\n",
            "109/109 [==============================] - 1s 7ms/step - loss: 0.5452 - accuracy: 0.8111 - val_loss: 0.4619 - val_accuracy: 0.8249\n",
            "Epoch 52/100\n",
            "109/109 [==============================] - 1s 7ms/step - loss: 0.5256 - accuracy: 0.8127 - val_loss: 0.4893 - val_accuracy: 0.8062\n",
            "Epoch 53/100\n",
            "109/109 [==============================] - 1s 7ms/step - loss: 0.6134 - accuracy: 0.7714 - val_loss: 0.6391 - val_accuracy: 0.7763\n",
            "Epoch 54/100\n",
            "109/109 [==============================] - 1s 7ms/step - loss: 0.6346 - accuracy: 0.7770 - val_loss: 0.5280 - val_accuracy: 0.8183\n",
            "Epoch 55/100\n",
            "109/109 [==============================] - 1s 8ms/step - loss: 0.5610 - accuracy: 0.8069 - val_loss: 0.5629 - val_accuracy: 0.8055\n",
            "Epoch 56/100\n",
            "109/109 [==============================] - 1s 8ms/step - loss: 0.5730 - accuracy: 0.8012 - val_loss: 0.4890 - val_accuracy: 0.8378\n",
            "Epoch 57/100\n",
            "109/109 [==============================] - 1s 8ms/step - loss: 0.6573 - accuracy: 0.7703 - val_loss: 0.6221 - val_accuracy: 0.7791\n",
            "Epoch 58/100\n",
            "109/109 [==============================] - 1s 7ms/step - loss: 0.6073 - accuracy: 0.7843 - val_loss: 0.5475 - val_accuracy: 0.8112\n",
            "Epoch 59/100\n",
            "109/109 [==============================] - 1s 8ms/step - loss: 0.5578 - accuracy: 0.8073 - val_loss: 0.5598 - val_accuracy: 0.7819\n",
            "Epoch 60/100\n",
            "109/109 [==============================] - 1s 8ms/step - loss: 0.6229 - accuracy: 0.7751 - val_loss: 0.5432 - val_accuracy: 0.7972\n",
            "Epoch 61/100\n",
            "109/109 [==============================] - 1s 8ms/step - loss: 0.5692 - accuracy: 0.7957 - val_loss: 0.5515 - val_accuracy: 0.7957\n",
            "Epoch 62/100\n",
            "109/109 [==============================] - 1s 8ms/step - loss: 0.6556 - accuracy: 0.7613 - val_loss: 0.6605 - val_accuracy: 0.7591\n",
            "Epoch 63/100\n",
            "109/109 [==============================] - 1s 7ms/step - loss: 0.6217 - accuracy: 0.7750 - val_loss: 0.5109 - val_accuracy: 0.8283\n",
            "Epoch 64/100\n",
            "109/109 [==============================] - 1s 7ms/step - loss: 0.6291 - accuracy: 0.7759 - val_loss: 0.6147 - val_accuracy: 0.7572\n",
            "Epoch 65/100\n",
            "109/109 [==============================] - 1s 8ms/step - loss: 0.6966 - accuracy: 0.7322 - val_loss: 0.5858 - val_accuracy: 0.7808\n",
            "Epoch 66/100\n",
            "109/109 [==============================] - 1s 8ms/step - loss: 0.6521 - accuracy: 0.7591 - val_loss: 0.5262 - val_accuracy: 0.7825\n",
            "Epoch 67/100\n",
            "109/109 [==============================] - 1s 7ms/step - loss: 0.6071 - accuracy: 0.7715 - val_loss: 0.5192 - val_accuracy: 0.8257\n",
            "Epoch 68/100\n",
            "109/109 [==============================] - 1s 7ms/step - loss: 0.5523 - accuracy: 0.7910 - val_loss: 0.5210 - val_accuracy: 0.7956\n",
            "Epoch 69/100\n",
            "109/109 [==============================] - 1s 7ms/step - loss: 0.7513 - accuracy: 0.7349 - val_loss: 0.7337 - val_accuracy: 0.7426\n",
            "Epoch 70/100\n",
            "109/109 [==============================] - 1s 7ms/step - loss: 0.6600 - accuracy: 0.7501 - val_loss: 0.5522 - val_accuracy: 0.7788\n",
            "Epoch 71/100\n",
            "109/109 [==============================] - 1s 7ms/step - loss: 0.6472 - accuracy: 0.7523 - val_loss: 0.5268 - val_accuracy: 0.7921\n",
            "Epoch 72/100\n",
            "109/109 [==============================] - 1s 7ms/step - loss: 0.7162 - accuracy: 0.7344 - val_loss: 0.7330 - val_accuracy: 0.7174\n",
            "Epoch 73/100\n",
            "109/109 [==============================] - 1s 7ms/step - loss: 0.7428 - accuracy: 0.7253 - val_loss: 0.6606 - val_accuracy: 0.7446\n",
            "Epoch 74/100\n",
            "109/109 [==============================] - 1s 7ms/step - loss: 0.6825 - accuracy: 0.7469 - val_loss: 0.5970 - val_accuracy: 0.7829\n",
            "Epoch 75/100\n",
            "109/109 [==============================] - 1s 7ms/step - loss: 0.6511 - accuracy: 0.7589 - val_loss: 0.6179 - val_accuracy: 0.7687\n",
            "Epoch 76/100\n",
            "109/109 [==============================] - 1s 7ms/step - loss: 0.6506 - accuracy: 0.7631 - val_loss: 0.5952 - val_accuracy: 0.7740\n",
            "Epoch 77/100\n",
            "109/109 [==============================] - 1s 7ms/step - loss: 0.6473 - accuracy: 0.7677 - val_loss: 0.5822 - val_accuracy: 0.8038\n",
            "Epoch 78/100\n",
            "109/109 [==============================] - 1s 7ms/step - loss: 0.6216 - accuracy: 0.7762 - val_loss: 0.5647 - val_accuracy: 0.7930\n",
            "Epoch 79/100\n",
            "109/109 [==============================] - 1s 7ms/step - loss: 0.6045 - accuracy: 0.7797 - val_loss: 0.5245 - val_accuracy: 0.8130\n",
            "Epoch 80/100\n",
            "109/109 [==============================] - 1s 7ms/step - loss: 0.6151 - accuracy: 0.7771 - val_loss: 0.5102 - val_accuracy: 0.8265\n",
            "Epoch 81/100\n",
            "109/109 [==============================] - 1s 7ms/step - loss: 0.6120 - accuracy: 0.7784 - val_loss: 0.5500 - val_accuracy: 0.8092\n",
            "Epoch 82/100\n",
            "109/109 [==============================] - 1s 7ms/step - loss: 0.6499 - accuracy: 0.7689 - val_loss: 0.6993 - val_accuracy: 0.7610\n",
            "Epoch 83/100\n",
            "109/109 [==============================] - 1s 7ms/step - loss: 0.6930 - accuracy: 0.7652 - val_loss: 0.6233 - val_accuracy: 0.7931\n",
            "Epoch 84/100\n",
            "109/109 [==============================] - 1s 7ms/step - loss: 0.6537 - accuracy: 0.7789 - val_loss: 0.6092 - val_accuracy: 0.7963\n",
            "Epoch 85/100\n",
            "109/109 [==============================] - 1s 7ms/step - loss: 0.6596 - accuracy: 0.7734 - val_loss: 0.6442 - val_accuracy: 0.7821\n",
            "Epoch 86/100\n",
            "109/109 [==============================] - 1s 7ms/step - loss: 0.6974 - accuracy: 0.7568 - val_loss: 0.6854 - val_accuracy: 0.7653\n",
            "Epoch 87/100\n",
            "109/109 [==============================] - 1s 7ms/step - loss: 0.8553 - accuracy: 0.7004 - val_loss: 0.7560 - val_accuracy: 0.7288\n",
            "Epoch 88/100\n",
            "109/109 [==============================] - 1s 7ms/step - loss: 0.7792 - accuracy: 0.7133 - val_loss: 0.7407 - val_accuracy: 0.7407\n",
            "Epoch 89/100\n",
            "109/109 [==============================] - 1s 7ms/step - loss: 0.7804 - accuracy: 0.7173 - val_loss: 0.7101 - val_accuracy: 0.7467\n",
            "Epoch 90/100\n",
            "109/109 [==============================] - 1s 7ms/step - loss: 0.7438 - accuracy: 0.7235 - val_loss: 0.6744 - val_accuracy: 0.7457\n",
            "Epoch 91/100\n",
            "109/109 [==============================] - 1s 7ms/step - loss: 0.7492 - accuracy: 0.7214 - val_loss: 0.6870 - val_accuracy: 0.7293\n",
            "Epoch 92/100\n",
            "109/109 [==============================] - 1s 7ms/step - loss: 0.7310 - accuracy: 0.7295 - val_loss: 0.6678 - val_accuracy: 0.7447\n",
            "Epoch 93/100\n",
            "109/109 [==============================] - 1s 7ms/step - loss: 0.7019 - accuracy: 0.7470 - val_loss: 0.6111 - val_accuracy: 0.7999\n",
            "Epoch 94/100\n",
            "109/109 [==============================] - 1s 7ms/step - loss: 0.6652 - accuracy: 0.7632 - val_loss: 0.6266 - val_accuracy: 0.7730\n",
            "Epoch 95/100\n",
            "109/109 [==============================] - 1s 7ms/step - loss: 0.6389 - accuracy: 0.7772 - val_loss: 0.5825 - val_accuracy: 0.8006\n",
            "Epoch 96/100\n",
            "109/109 [==============================] - 1s 7ms/step - loss: 0.6456 - accuracy: 0.7677 - val_loss: 0.5815 - val_accuracy: 0.7770\n",
            "Epoch 97/100\n",
            "109/109 [==============================] - 1s 7ms/step - loss: 0.6265 - accuracy: 0.7743 - val_loss: 0.5982 - val_accuracy: 0.7630\n",
            "Epoch 98/100\n",
            "109/109 [==============================] - 1s 7ms/step - loss: 0.6031 - accuracy: 0.7834 - val_loss: 0.5586 - val_accuracy: 0.7917\n",
            "Epoch 99/100\n",
            "109/109 [==============================] - 1s 7ms/step - loss: 0.6005 - accuracy: 0.7853 - val_loss: 0.5463 - val_accuracy: 0.8055\n",
            "Epoch 100/100\n",
            "109/109 [==============================] - 1s 7ms/step - loss: 2.5017 - accuracy: 0.7400 - val_loss: 0.8375 - val_accuracy: 0.6342\n"
          ],
          "name": "stdout"
        }
      ]
    },
    {
      "cell_type": "code",
      "metadata": {
        "id": "eubyVw3Y17NZ",
        "outputId": "c9d9929f-426a-4c60-e5a1-66b85a69c032",
        "colab": {
          "base_uri": "https://localhost:8080/",
          "height": 83
        }
      },
      "source": [
        "his_dict = history.history\n",
        "for key in his_dict:\n",
        "    print(key)"
      ],
      "execution_count": null,
      "outputs": [
        {
          "output_type": "stream",
          "text": [
            "loss\n",
            "accuracy\n",
            "val_loss\n",
            "val_accuracy\n"
          ],
          "name": "stdout"
        }
      ]
    },
    {
      "cell_type": "code",
      "metadata": {
        "id": "3HnW74uKzpzz",
        "outputId": "3dec0e88-b50f-439a-902f-b80ace4e5d6b",
        "colab": {
          "base_uri": "https://localhost:8080/",
          "height": 594
        }
      },
      "source": [
        "# Plotting accuracy and loss\n",
        "\n",
        "%matplotlib inline\n",
        "\n",
        "import matplotlib.image  as mpimg\n",
        "import matplotlib.pyplot as plt\n",
        "\n",
        "#-----------------------------------------------------------\n",
        "# Retrieve a list of list results on training and test data\n",
        "# sets for each training epoch\n",
        "#-----------------------------------------------------------\n",
        "acc=history.history['accuracy']\n",
        "val_acc=history.history['val_accuracy']\n",
        "loss=history.history['loss']\n",
        "val_loss=history.history['val_loss']\n",
        "\n",
        "epochs=range(len(acc)) # Get number of epochs\n",
        "\n",
        "#------------------------------------------------\n",
        "# Plot training and validation accuracy per epoch\n",
        "#------------------------------------------------\n",
        "plt.plot(epochs, acc, 'r', label=\"Training Accuracy\",)\n",
        "plt.plot(epochs, val_acc, 'b', label=\"Validation Accuracy\")\n",
        "plt.xlabel(\"Epochs\")\n",
        "plt.ylabel(\"Accuracy\")\n",
        "plt.legend(loc='lower right')\n",
        "plt.ylim(0.5, 1.0)\n",
        "plt.title('Training and validation accuracy')\n",
        "plt.figure()\n",
        "\n",
        "#------------------------------------------------\n",
        "# Plot training and validation loss per epoch\n",
        "#------------------------------------------------\n",
        "plt.plot(epochs, loss, 'r', label=\"Training Loss\")\n",
        "plt.plot(epochs, val_loss, 'b', label=\"Validation Loss\")\n",
        "plt.xlabel(\"Epochs\")\n",
        "plt.ylabel(\"Loss\")\n",
        "plt.ylim(0,0.5)\n",
        "plt.legend(loc='upper right')\n",
        "plt.figure()"
      ],
      "execution_count": null,
      "outputs": [
        {
          "output_type": "execute_result",
          "data": {
            "text/plain": [
              "<Figure size 432x288 with 0 Axes>"
            ]
          },
          "metadata": {
            "tags": []
          },
          "execution_count": 21
        },
        {
          "output_type": "display_data",
          "data": {
            "image/png": "[encoded data removed]",
            "text/plain": [
              "<Figure size 432x288 with 1 Axes>"
            ]
          },
          "metadata": {
            "tags": [],
            "needs_background": "light"
          }
        },
        {
          "output_type": "display_data",
          "data": {
            "image/png": "[encoded data removed]",
            "text/plain": [
              "<Figure size 432x288 with 1 Axes>"
            ]
          },
          "metadata": {
            "tags": [],
            "needs_background": "light"
          }
        },
        {
          "output_type": "display_data",
          "data": {
            "text/plain": [
              "<Figure size 432x288 with 0 Axes>"
            ]
          },
          "metadata": {
            "tags": []
          }
        }
      ]
    },
    {
      "cell_type": "code",
      "metadata": {
        "id": "mQlepkFb_sl_"
      },
      "source": [
        "import pandas as pd\n",
        "\n",
        "def classification_report_csv(report):\n",
        "    report_data = []\n",
        "    lines = report.split('\\n')\n",
        "    for line in lines[2:-3]:\n",
        "        row = {}\n",
        "        row_data = ' '.join(line.split()) \n",
        "        row_data = row_data.split(' ')\n",
        "        #print(len(row_data))\n",
        "        if len(row_data)==5:\n",
        "            #row['class'] = row_data[0]\n",
        "            row['f1_score'] = float(row_data[3])\n",
        "            report_data.append(row)\n",
        "    dataframe = pd.DataFrame.from_dict(report_data)\n",
        "    dataframe.to_csv('classification_report.csv', mode = 'a',header = False,index = False)"
      ],
      "execution_count": null,
      "outputs": []
    },
    {
      "cell_type": "code",
      "metadata": {
        "tags": [],
        "id": "GnHXBoN3zpz7",
        "outputId": "07e326eb-1b2c-46ad-e324-13ee2c6aa875",
        "colab": {
          "base_uri": "https://localhost:8080/",
          "height": 803
        }
      },
      "source": [
        "y_pred = model.predict(X_test)\n",
        "y_pred_bool = np.argmax(y_pred, axis=1)\n",
        "report = classification_report(y_test, y_pred_bool)\n",
        "print(report)\n",
        "classification_report_csv(report)\n",
        "print(confusion_matrix(y_test, y_pred_bool))\n",
        "print(\"\\nMap to class id and class name: \")\n",
        "print(json.dumps(class_dict, indent=4, sort_keys=True))"
      ],
      "execution_count": null,
      "outputs": [
        {
          "output_type": "stream",
          "text": [
            "              precision    recall  f1-score   support\n",
            "\n",
            "           0       0.00      0.00      0.00       285\n",
            "           1       0.00      0.00      0.00        64\n",
            "           2       0.74      0.16      0.26       733\n",
            "           3       0.00      0.00      0.00       205\n",
            "           4       0.79      0.97      0.87      2973\n",
            "           5       0.40      1.00      0.57       517\n",
            "           6       1.00      0.98      0.99       494\n",
            "           7       0.36      0.12      0.18       479\n",
            "           8       0.00      0.00      0.00       457\n",
            "           9       0.29      0.97      0.45       378\n",
            "          10       0.00      0.00      0.00       376\n",
            "\n",
            "    accuracy                           0.63      6961\n",
            "   macro avg       0.33      0.38      0.30      6961\n",
            "weighted avg       0.56      0.63      0.55      6961\n",
            "\n",
            "[[   0    0    0    0  285    0    0    0    0    0    0]\n",
            " [   0    0    0    0   63    0    0    0    0    1    0]\n",
            " [   0    0  114    0  179    0    0    0    0  440    0]\n",
            " [   0    0    0    0  205    0    0    0    0    0    0]\n",
            " [   0    0   34    0 2878    0    0    0    0   61    0]\n",
            " [   0    0    0    0    0  515    0    1    0    1    0]\n",
            " [   0    0    0    0    2    0  486    0    0    6    0]\n",
            " [   0    0    5    0    1  413    0   57    0    3    0]\n",
            " [   0    0    1    0    3  354    0   99    0    0    0]\n",
            " [   0    0    0    0   13    0    0    0    0  365    0]\n",
            " [   0    0    1    0    0    0    0    0    0  375    0]]\n",
            "\n",
            "Map to class id and class name: \n",
            "{\n",
            "    \"0\": \"DNS\",\n",
            "    \"1\": \"FTP\",\n",
            "    \"2\": \"HTTP\",\n",
            "    \"3\": \"TELNET\",\n",
            "    \"4\": \"lime\",\n",
            "    \"5\": \"localForwarding\",\n",
            "    \"6\": \"remoteForwarding\",\n",
            "    \"7\": \"scp\",\n",
            "    \"8\": \"sftp\",\n",
            "    \"9\": \"shell\",\n",
            "    \"10\": \"x11\"\n",
            "}\n"
          ],
          "name": "stdout"
        },
        {
          "output_type": "stream",
          "text": [
            "/usr/local/lib/python3.6/dist-packages/sklearn/metrics/_classification.py:1272: UndefinedMetricWarning: Precision and F-score are ill-defined and being set to 0.0 in labels with no predicted samples. Use `zero_division` parameter to control this behavior.\n",
            "  _warn_prf(average, modifier, msg_start, len(result))\n"
          ],
          "name": "stderr"
        }
      ]
    },
    {
      "cell_type": "code",
      "metadata": {
        "id": "3xbjORUBzp0A"
      },
      "source": [
        "def softmax(x):\n",
        "    e_x = np.exp(x - np.max(x))\n",
        "    return e_x / e_x.sum()"
      ],
      "execution_count": null,
      "outputs": []
    },
    {
      "cell_type": "code",
      "metadata": {
        "id": "7BRnSn02zp0F"
      },
      "source": [
        "# def predict(sample):\n",
        "#     # Parameters layer 1\n",
        "#     W1 = model.get_weights()[0]\n",
        "#     b1 = model.get_weights()[1]\n",
        "\n",
        "#     # Parameters layer 2\n",
        "#     W2 = model.get_weights()[2]\n",
        "#     b2 = model.get_weights()[3]\n",
        "\n",
        "#     # Parameters layer 3\n",
        "#     W3 = model.get_weights()[4]\n",
        "#     b3 = model.get_weights()[5]\n",
        "\n",
        "#     # Parameters layer 4\n",
        "#     W4 = model.get_weights()[6]\n",
        "#     b4 = model.get_weights()[7]\n",
        "\n",
        "    \n",
        "#     L1 = np.dot(sample,W1)+b1\n",
        "#     L1 = np.maximum(L1,0)\n",
        "#     L2 = np.dot(L1,W2)+b2\n",
        "#     L2 = np.maximum(L2,0)\n",
        "#     L3 = np.dot(L2,W3)+b3\n",
        "#     L3 = np.maximum(L3,0)\n",
        "#     L4 = np.dot(L3,W4)+b4\n",
        "#     output = softmax(L4)\n",
        "#     return output"
      ],
      "execution_count": null,
      "outputs": []
    },
    {
      "cell_type": "code",
      "metadata": {
        "id": "kIZo-wMXzp0K",
        "outputId": "f4f89eb1-d57a-404b-d0dd-894a99ccf3f7",
        "colab": {
          "base_uri": "https://localhost:8080/",
          "height": 33
        }
      },
      "source": [
        "weights = model.get_weights()\n",
        "type(weights)\n",
        "len(weights)\n",
        "print(weights[0].shape)"
      ],
      "execution_count": null,
      "outputs": [
        {
          "output_type": "stream",
          "text": [
            "(6, 256)\n"
          ],
          "name": "stdout"
        }
      ]
    },
    {
      "cell_type": "code",
      "metadata": {
        "id": "RW7Tllegzp0P",
        "outputId": "7ad76c60-9296-41a2-a992-ae6d2f736b68",
        "colab": {
          "base_uri": "https://localhost:8080/",
          "height": 228
        }
      },
      "source": [
        "import pickle\n",
        "with open(\"data/means.txt\", \"wb\") as f:\n",
        "    pickle.dump(means,f)\n",
        "with open(\"data/stddevs.txt\", \"wb\") as f:\n",
        "    pickle.dump(stddevs,f)\n",
        "with open(\"data/weights.txt\", \"wb\") as f:\n",
        "    pickle.dump(weights,f)"
      ],
      "execution_count": null,
      "outputs": [
        {
          "output_type": "error",
          "ename": "FileNotFoundError",
          "evalue": "ignored",
          "traceback": [
            "\u001b[0;31m---------------------------------------------------------------------------\u001b[0m",
            "\u001b[0;31mFileNotFoundError\u001b[0m                         Traceback (most recent call last)",
            "\u001b[0;32m<ipython-input-27-20069596753a>\u001b[0m in \u001b[0;36m<module>\u001b[0;34m()\u001b[0m\n\u001b[1;32m      1\u001b[0m \u001b[0;32mimport\u001b[0m \u001b[0mpickle\u001b[0m\u001b[0;34m\u001b[0m\u001b[0;34m\u001b[0m\u001b[0m\n\u001b[0;32m----> 2\u001b[0;31m \u001b[0;32mwith\u001b[0m \u001b[0mopen\u001b[0m\u001b[0;34m(\u001b[0m\u001b[0;34m\"data/means.txt\"\u001b[0m\u001b[0;34m,\u001b[0m \u001b[0;34m\"wb\"\u001b[0m\u001b[0;34m)\u001b[0m \u001b[0;32mas\u001b[0m \u001b[0mf\u001b[0m\u001b[0;34m:\u001b[0m\u001b[0;34m\u001b[0m\u001b[0;34m\u001b[0m\u001b[0m\n\u001b[0m\u001b[1;32m      3\u001b[0m     \u001b[0mpickle\u001b[0m\u001b[0;34m.\u001b[0m\u001b[0mdump\u001b[0m\u001b[0;34m(\u001b[0m\u001b[0mmeans\u001b[0m\u001b[0;34m,\u001b[0m\u001b[0mf\u001b[0m\u001b[0;34m)\u001b[0m\u001b[0;34m\u001b[0m\u001b[0;34m\u001b[0m\u001b[0m\n\u001b[1;32m      4\u001b[0m \u001b[0;32mwith\u001b[0m \u001b[0mopen\u001b[0m\u001b[0;34m(\u001b[0m\u001b[0;34m\"data/stddevs.txt\"\u001b[0m\u001b[0;34m,\u001b[0m \u001b[0;34m\"wb\"\u001b[0m\u001b[0;34m)\u001b[0m \u001b[0;32mas\u001b[0m \u001b[0mf\u001b[0m\u001b[0;34m:\u001b[0m\u001b[0;34m\u001b[0m\u001b[0;34m\u001b[0m\u001b[0m\n\u001b[1;32m      5\u001b[0m     \u001b[0mpickle\u001b[0m\u001b[0;34m.\u001b[0m\u001b[0mdump\u001b[0m\u001b[0;34m(\u001b[0m\u001b[0mstddevs\u001b[0m\u001b[0;34m,\u001b[0m\u001b[0mf\u001b[0m\u001b[0;34m)\u001b[0m\u001b[0;34m\u001b[0m\u001b[0;34m\u001b[0m\u001b[0m\n",
            "\u001b[0;31mFileNotFoundError\u001b[0m: [Errno 2] No such file or directory: 'data/means.txt'"
          ]
        }
      ]
    },
    {
      "cell_type": "code",
      "metadata": {
        "id": "eDcqoMYpzp0T"
      },
      "source": [
        "def predictG(sample,weights):\n",
        "    layers = int(len(weights)/2)\n",
        "    L = np.dot(sample,weights[0]) + weights[1]\n",
        "    L = np.maximum(L,0)\n",
        "    for i in range(1,layers):\n",
        "        L = np.dot(L,weights[2*i]) + weights[2*i+1]\n",
        "        if i != layers-1:\n",
        "            L = np.maximum(L,0)\n",
        "        else:\n",
        "            L = softmax(L)\n",
        "    return L"
      ],
      "execution_count": null,
      "outputs": []
    },
    {
      "cell_type": "code",
      "metadata": {
        "id": "1e2jbOK9zp0Z"
      },
      "source": [
        "X_train[0].shape"
      ],
      "execution_count": null,
      "outputs": []
    },
    {
      "cell_type": "code",
      "metadata": {
        "tags": [],
        "id": "_UPmPQQMzp0f"
      },
      "source": [
        "print(np.around(predictG(X_train[5],weights),decimals=3))"
      ],
      "execution_count": null,
      "outputs": []
    },
    {
      "cell_type": "code",
      "metadata": {
        "tags": [],
        "id": "nFMGAMcrzp0l"
      },
      "source": [
        "print(np.around(model.predict(X_train)[5],decimals=3))"
      ],
      "execution_count": null,
      "outputs": []
    },
    {
      "cell_type": "code",
      "metadata": {
        "tags": [],
        "id": "gWxxxe4Dzp0t"
      },
      "source": [
        "print(np.around(model.predict(X_test)[15],decimals=3))"
      ],
      "execution_count": null,
      "outputs": []
    },
    {
      "cell_type": "code",
      "metadata": {
        "tags": [],
        "id": "DJmmSqA0zp0z"
      },
      "source": [
        "print(np.around(predictG(X_test[15],weights),decimals=3))"
      ],
      "execution_count": null,
      "outputs": []
    },
    {
      "cell_type": "code",
      "metadata": {
        "id": "Cx7CpnSBzp03"
      },
      "source": [
        "m,s,w = None,None,None\n",
        "with open(\"data/means.txt\", \"rb\") as f:\n",
        "    m = pickle.load(f)\n",
        "with open(\"data/stddevs.txt\", \"rb\") as f:\n",
        "    s = pickle.load(f)\n",
        "with open(\"data/weights.txt\", \"rb\") as f:\n",
        "    w = pickle.load(f)"
      ],
      "execution_count": null,
      "outputs": []
    },
    {
      "cell_type": "code",
      "metadata": {
        "tags": [],
        "id": "Mcxz8ioYzp08"
      },
      "source": [
        "print(m)"
      ],
      "execution_count": null,
      "outputs": []
    },
    {
      "cell_type": "code",
      "metadata": {
        "tags": [
          "outputPrepend"
        ],
        "id": "yJu7Bi66zp1B"
      },
      "source": [
        "print(w)"
      ],
      "execution_count": null,
      "outputs": []
    },
    {
      "cell_type": "code",
      "metadata": {
        "tags": [],
        "id": "zowX_1lrzp1G"
      },
      "source": [
        "print(np.around(predictG(X_train[5],w),decimals=3))"
      ],
      "execution_count": null,
      "outputs": []
    },
    {
      "cell_type": "code",
      "metadata": {
        "id": "eDwVWTTPzp1K"
      },
      "source": [
        "for row in weights:\n",
        "    print(row.shape)"
      ],
      "execution_count": null,
      "outputs": []
    },
    {
      "cell_type": "code",
      "metadata": {
        "id": "_avMEEBTZixs"
      },
      "source": [
        ""
      ],
      "execution_count": null,
      "outputs": []
    }
  ]
}