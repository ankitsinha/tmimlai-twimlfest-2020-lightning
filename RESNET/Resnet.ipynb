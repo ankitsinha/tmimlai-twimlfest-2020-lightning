{
  "nbformat": 4,
  "nbformat_minor": 0,
  "metadata": {
    "kernelspec": {
      "display_name": "Python 3",
      "language": "python",
      "name": "python3"
    },
    "language_info": {
      "codemirror_mode": {
        "name": "ipython",
        "version": 3
      },
      "file_extension": ".py",
      "mimetype": "text/x-python",
      "name": "python",
      "nbconvert_exporter": "python",
      "pygments_lexer": "ipython3",
      "version": "3.6.9"
    },
    "colab": {
      "name": "Resnet.ipynb",
      "provenance": []
    },
    "accelerator": "GPU"
  },
  "cells": [
    {
      "cell_type": "code",
      "metadata": {
        "id": "msYDvmCYzlWF",
        "outputId": "bae82d4c-d4e6-4233-a7b9-0e06b8341cfe",
        "colab": {
          "base_uri": "https://localhost:8080/",
          "height": 33
        }
      },
      "source": [
        "# Testing if tensorflow is using GPU\n",
        "import tensorflow as tf \n",
        "\n",
        "if tf.test.gpu_device_name(): \n",
        "    print('Default GPU Device:{}'.format(tf.test.gpu_device_name()))\n",
        "\n",
        "else:\n",
        "    print(\"Please install GPU version of TF\")"
      ],
      "execution_count": null,
      "outputs": [
        {
          "output_type": "stream",
          "text": [
            "Default GPU Device:/device:GPU:0\n"
          ],
          "name": "stdout"
        }
      ]
    },
    {
      "cell_type": "code",
      "metadata": {
        "id": "Q779RkXbzlWR"
      },
      "source": [
        "# Installing libraries\n",
        "from tensorflow.keras.preprocessing.image import ImageDataGenerator\n",
        "from tensorflow.keras.layers import AveragePooling2D\n",
        "from tensorflow.keras.layers import Dropout\n",
        "from tensorflow.keras.layers import Flatten\n",
        "from tensorflow.keras.layers import Dense\n",
        "from tensorflow.keras.layers import Input\n",
        "from tensorflow.keras.models import Model\n",
        "from tensorflow.keras.optimizers import Adam\n",
        "from tensorflow.keras.applications import ResNet101\n",
        "from tensorflow.keras.applications import ResNet50\n",
        "from tensorflow.keras.applications import ResNet152\n",
        "#from tensorflow.keras.classification_models.resnet import ResNet18\n",
        "from sklearn import preprocessing\n",
        "from sklearn.metrics import classification_report\n",
        "from sklearn.model_selection import train_test_split\n",
        "from imutils import paths\n",
        "import matplotlib.pyplot as plt\n",
        "import numpy as np\n",
        "import pandas as pd\n",
        "import argparse\n",
        "from sklearn.metrics import confusion_matrix\n",
        "import json\n",
        "\n",
        "# Location of the dataset in your Google Drive\n",
        "dir = '/content/drive/My Drive/CognitiveEdge'"
      ],
      "execution_count": null,
      "outputs": []
    },
    {
      "cell_type": "code",
      "metadata": {
        "id": "SRVbuEB1MOGP",
        "outputId": "a3d47851-6dda-4a05-9d01-8930fecc71f0",
        "colab": {
          "base_uri": "https://localhost:8080/",
          "height": 33
        }
      },
      "source": [
        "# Mount Google Drive\n",
        "from google.colab import drive\n",
        "drive.mount('/content/drive')"
      ],
      "execution_count": null,
      "outputs": [
        {
          "output_type": "stream",
          "text": [
            "Drive already mounted at /content/drive; to attempt to forcibly remount, call drive.mount(\"/content/drive\", force_remount=True).\n"
          ],
          "name": "stdout"
        }
      ]
    },
    {
      "cell_type": "code",
      "metadata": {
        "id": "LxpLjkvWRIGt"
      },
      "source": [
        "# Read Dataset\n",
        "data = pd.read_csv(dir+'/6-features-34k-rows.csv')\n",
        "data_df = pd.DataFrame(data)"
      ],
      "execution_count": null,
      "outputs": []
    },
    {
      "cell_type": "code",
      "metadata": {
        "id": "09pnOunSRYl8",
        "outputId": "0dea054a-6080-4249-83df-f1b7fdc4e607",
        "colab": {
          "base_uri": "https://localhost:8080/",
          "height": 197
        }
      },
      "source": [
        "# Sample of dataset\n",
        "data_df.head()"
      ],
      "execution_count": null,
      "outputs": [
        {
          "output_type": "execute_result",
          "data": {
            "text/html": [
              "<div>\n",
              "<style scoped>\n",
              "    .dataframe tbody tr th:only-of-type {\n",
              "        vertical-align: middle;\n",
              "    }\n",
              "\n",
              "    .dataframe tbody tr th {\n",
              "        vertical-align: top;\n",
              "    }\n",
              "\n",
              "    .dataframe thead th {\n",
              "        text-align: right;\n",
              "    }\n",
              "</style>\n",
              "<table border=\"1\" class=\"dataframe\">\n",
              "  <thead>\n",
              "    <tr style=\"text-align: right;\">\n",
              "      <th></th>\n",
              "      <th>mean_fpktl</th>\n",
              "      <th>std_fpktl</th>\n",
              "      <th>mean_fiat</th>\n",
              "      <th>std_fiat</th>\n",
              "      <th>fpkt_rate</th>\n",
              "      <th>fbyte_rate</th>\n",
              "      <th>class</th>\n",
              "    </tr>\n",
              "  </thead>\n",
              "  <tbody>\n",
              "    <tr>\n",
              "      <th>0</th>\n",
              "      <td>45</td>\n",
              "      <td>3</td>\n",
              "      <td>38823</td>\n",
              "      <td>43269</td>\n",
              "      <td>0.000002</td>\n",
              "      <td>0.000075</td>\n",
              "      <td>TELNET</td>\n",
              "    </tr>\n",
              "    <tr>\n",
              "      <th>1</th>\n",
              "      <td>46</td>\n",
              "      <td>4</td>\n",
              "      <td>21859</td>\n",
              "      <td>40481</td>\n",
              "      <td>0.000050</td>\n",
              "      <td>0.002300</td>\n",
              "      <td>FTP</td>\n",
              "    </tr>\n",
              "    <tr>\n",
              "      <th>2</th>\n",
              "      <td>226</td>\n",
              "      <td>207</td>\n",
              "      <td>17430</td>\n",
              "      <td>28950</td>\n",
              "      <td>0.000002</td>\n",
              "      <td>0.000461</td>\n",
              "      <td>HTTP</td>\n",
              "    </tr>\n",
              "    <tr>\n",
              "      <th>3</th>\n",
              "      <td>225</td>\n",
              "      <td>248</td>\n",
              "      <td>40103</td>\n",
              "      <td>61819</td>\n",
              "      <td>0.000026</td>\n",
              "      <td>0.005958</td>\n",
              "      <td>localForwarding</td>\n",
              "    </tr>\n",
              "    <tr>\n",
              "      <th>4</th>\n",
              "      <td>8222</td>\n",
              "      <td>7849</td>\n",
              "      <td>9423</td>\n",
              "      <td>23976</td>\n",
              "      <td>0.000106</td>\n",
              "      <td>0.873337</td>\n",
              "      <td>remoteForwarding</td>\n",
              "    </tr>\n",
              "  </tbody>\n",
              "</table>\n",
              "</div>"
            ],
            "text/plain": [
              "   mean_fpktl  std_fpktl  mean_fiat  ...  fpkt_rate  fbyte_rate             class\n",
              "0          45          3      38823  ...   0.000002    0.000075            TELNET\n",
              "1          46          4      21859  ...   0.000050    0.002300               FTP\n",
              "2         226        207      17430  ...   0.000002    0.000461              HTTP\n",
              "3         225        248      40103  ...   0.000026    0.005958   localForwarding\n",
              "4        8222       7849       9423  ...   0.000106    0.873337  remoteForwarding\n",
              "\n",
              "[5 rows x 7 columns]"
            ]
          },
          "metadata": {
            "tags": []
          },
          "execution_count": 5
        }
      ]
    },
    {
      "cell_type": "code",
      "metadata": {
        "id": "whS62pK7VWkW"
      },
      "source": [
        "# Changing class names to numerical values\n",
        "class_name =data_df['class'].unique()\n",
        "le = preprocessing.LabelEncoder()\n",
        "le.fit(data_df['class'])\n",
        "data_df['class']=le.transform(data_df['class'])\n",
        "class_id = data_df['class'].unique()"
      ],
      "execution_count": null,
      "outputs": []
    },
    {
      "cell_type": "code",
      "metadata": {
        "id": "hotw_bYzVlNg",
        "outputId": "2a9ee5e8-3984-4cb2-8d10-0fdaff02d50e",
        "colab": {
          "base_uri": "https://localhost:8080/",
          "height": 197
        }
      },
      "source": [
        "# Sample of dataset after changing class names \n",
        "data_df.head()"
      ],
      "execution_count": null,
      "outputs": [
        {
          "output_type": "execute_result",
          "data": {
            "text/html": [
              "<div>\n",
              "<style scoped>\n",
              "    .dataframe tbody tr th:only-of-type {\n",
              "        vertical-align: middle;\n",
              "    }\n",
              "\n",
              "    .dataframe tbody tr th {\n",
              "        vertical-align: top;\n",
              "    }\n",
              "\n",
              "    .dataframe thead th {\n",
              "        text-align: right;\n",
              "    }\n",
              "</style>\n",
              "<table border=\"1\" class=\"dataframe\">\n",
              "  <thead>\n",
              "    <tr style=\"text-align: right;\">\n",
              "      <th></th>\n",
              "      <th>mean_fpktl</th>\n",
              "      <th>std_fpktl</th>\n",
              "      <th>mean_fiat</th>\n",
              "      <th>std_fiat</th>\n",
              "      <th>fpkt_rate</th>\n",
              "      <th>fbyte_rate</th>\n",
              "      <th>class</th>\n",
              "    </tr>\n",
              "  </thead>\n",
              "  <tbody>\n",
              "    <tr>\n",
              "      <th>0</th>\n",
              "      <td>45</td>\n",
              "      <td>3</td>\n",
              "      <td>38823</td>\n",
              "      <td>43269</td>\n",
              "      <td>0.000002</td>\n",
              "      <td>0.000075</td>\n",
              "      <td>3</td>\n",
              "    </tr>\n",
              "    <tr>\n",
              "      <th>1</th>\n",
              "      <td>46</td>\n",
              "      <td>4</td>\n",
              "      <td>21859</td>\n",
              "      <td>40481</td>\n",
              "      <td>0.000050</td>\n",
              "      <td>0.002300</td>\n",
              "      <td>1</td>\n",
              "    </tr>\n",
              "    <tr>\n",
              "      <th>2</th>\n",
              "      <td>226</td>\n",
              "      <td>207</td>\n",
              "      <td>17430</td>\n",
              "      <td>28950</td>\n",
              "      <td>0.000002</td>\n",
              "      <td>0.000461</td>\n",
              "      <td>2</td>\n",
              "    </tr>\n",
              "    <tr>\n",
              "      <th>3</th>\n",
              "      <td>225</td>\n",
              "      <td>248</td>\n",
              "      <td>40103</td>\n",
              "      <td>61819</td>\n",
              "      <td>0.000026</td>\n",
              "      <td>0.005958</td>\n",
              "      <td>5</td>\n",
              "    </tr>\n",
              "    <tr>\n",
              "      <th>4</th>\n",
              "      <td>8222</td>\n",
              "      <td>7849</td>\n",
              "      <td>9423</td>\n",
              "      <td>23976</td>\n",
              "      <td>0.000106</td>\n",
              "      <td>0.873337</td>\n",
              "      <td>6</td>\n",
              "    </tr>\n",
              "  </tbody>\n",
              "</table>\n",
              "</div>"
            ],
            "text/plain": [
              "   mean_fpktl  std_fpktl  mean_fiat  std_fiat  fpkt_rate  fbyte_rate  class\n",
              "0          45          3      38823     43269   0.000002    0.000075      3\n",
              "1          46          4      21859     40481   0.000050    0.002300      1\n",
              "2         226        207      17430     28950   0.000002    0.000461      2\n",
              "3         225        248      40103     61819   0.000026    0.005958      5\n",
              "4        8222       7849       9423     23976   0.000106    0.873337      6"
            ]
          },
          "metadata": {
            "tags": []
          },
          "execution_count": 7
        }
      ]
    },
    {
      "cell_type": "code",
      "metadata": {
        "id": "L9MIist8XyZH",
        "outputId": "bf2fa191-f234-456b-f0ad-fa70376ea6a5",
        "colab": {
          "base_uri": "https://localhost:8080/",
          "height": 197
        }
      },
      "source": [
        "# Making sure that all fields are integers\n",
        "data_df['fpkt_rate'] = 1000000*data_df['fpkt_rate']\n",
        "data_df['fbyte_rate'] = 1000000*data_df['fbyte_rate']\n",
        "data_df.round(decimals=0)\n",
        "data_df = data_df.astype(int)\n",
        "data_df.head()"
      ],
      "execution_count": null,
      "outputs": [
        {
          "output_type": "execute_result",
          "data": {
            "text/html": [
              "<div>\n",
              "<style scoped>\n",
              "    .dataframe tbody tr th:only-of-type {\n",
              "        vertical-align: middle;\n",
              "    }\n",
              "\n",
              "    .dataframe tbody tr th {\n",
              "        vertical-align: top;\n",
              "    }\n",
              "\n",
              "    .dataframe thead th {\n",
              "        text-align: right;\n",
              "    }\n",
              "</style>\n",
              "<table border=\"1\" class=\"dataframe\">\n",
              "  <thead>\n",
              "    <tr style=\"text-align: right;\">\n",
              "      <th></th>\n",
              "      <th>mean_fpktl</th>\n",
              "      <th>std_fpktl</th>\n",
              "      <th>mean_fiat</th>\n",
              "      <th>std_fiat</th>\n",
              "      <th>fpkt_rate</th>\n",
              "      <th>fbyte_rate</th>\n",
              "      <th>class</th>\n",
              "    </tr>\n",
              "  </thead>\n",
              "  <tbody>\n",
              "    <tr>\n",
              "      <th>0</th>\n",
              "      <td>45</td>\n",
              "      <td>3</td>\n",
              "      <td>38823</td>\n",
              "      <td>43269</td>\n",
              "      <td>1</td>\n",
              "      <td>75</td>\n",
              "      <td>3</td>\n",
              "    </tr>\n",
              "    <tr>\n",
              "      <th>1</th>\n",
              "      <td>46</td>\n",
              "      <td>4</td>\n",
              "      <td>21859</td>\n",
              "      <td>40481</td>\n",
              "      <td>49</td>\n",
              "      <td>2299</td>\n",
              "      <td>1</td>\n",
              "    </tr>\n",
              "    <tr>\n",
              "      <th>2</th>\n",
              "      <td>226</td>\n",
              "      <td>207</td>\n",
              "      <td>17430</td>\n",
              "      <td>28950</td>\n",
              "      <td>2</td>\n",
              "      <td>460</td>\n",
              "      <td>2</td>\n",
              "    </tr>\n",
              "    <tr>\n",
              "      <th>3</th>\n",
              "      <td>225</td>\n",
              "      <td>248</td>\n",
              "      <td>40103</td>\n",
              "      <td>61819</td>\n",
              "      <td>26</td>\n",
              "      <td>5958</td>\n",
              "      <td>5</td>\n",
              "    </tr>\n",
              "    <tr>\n",
              "      <th>4</th>\n",
              "      <td>8222</td>\n",
              "      <td>7849</td>\n",
              "      <td>9423</td>\n",
              "      <td>23976</td>\n",
              "      <td>106</td>\n",
              "      <td>873336</td>\n",
              "      <td>6</td>\n",
              "    </tr>\n",
              "  </tbody>\n",
              "</table>\n",
              "</div>"
            ],
            "text/plain": [
              "   mean_fpktl  std_fpktl  mean_fiat  std_fiat  fpkt_rate  fbyte_rate  class\n",
              "0          45          3      38823     43269          1          75      3\n",
              "1          46          4      21859     40481         49        2299      1\n",
              "2         226        207      17430     28950          2         460      2\n",
              "3         225        248      40103     61819         26        5958      5\n",
              "4        8222       7849       9423     23976        106      873336      6"
            ]
          },
          "metadata": {
            "tags": []
          },
          "execution_count": 8
        }
      ]
    },
    {
      "cell_type": "code",
      "metadata": {
        "id": "KvDmlgo3VqcF",
        "outputId": "53bbefd1-61ce-4e80-ee9c-6530989a4c27",
        "colab": {
          "base_uri": "https://localhost:8080/",
          "height": 33
        }
      },
      "source": [
        "# Mapping class names and ids(numerical values)\n",
        "class_dict={}\n",
        "for i in range(0,len(class_name)):\n",
        "    class_dict[int(class_id[i])]=class_name[i]\n",
        "\n",
        "print(class_dict)"
      ],
      "execution_count": null,
      "outputs": [
        {
          "output_type": "stream",
          "text": [
            "{3: 'TELNET', 1: 'FTP', 2: 'HTTP', 5: 'localForwarding', 6: 'remoteForwarding', 7: 'scp', 8: 'sftp', 10: 'x11', 9: 'shell', 0: 'DNS', 4: 'lime'}\n"
          ],
          "name": "stdout"
        }
      ]
    },
    {
      "cell_type": "code",
      "metadata": {
        "id": "t9brDXmKVyaz",
        "outputId": "45a3f185-2216-4ef4-ee4e-fdf375f87385",
        "colab": {
          "base_uri": "https://localhost:8080/",
          "height": 250
        }
      },
      "source": [
        "# Column information of dataset\n",
        "data_df.info()"
      ],
      "execution_count": null,
      "outputs": [
        {
          "output_type": "stream",
          "text": [
            "<class 'pandas.core.frame.DataFrame'>\n",
            "RangeIndex: 34803 entries, 0 to 34802\n",
            "Data columns (total 7 columns):\n",
            " #   Column      Non-Null Count  Dtype\n",
            "---  ------      --------------  -----\n",
            " 0   mean_fpktl  34803 non-null  int64\n",
            " 1   std_fpktl   34803 non-null  int64\n",
            " 2   mean_fiat   34803 non-null  int64\n",
            " 3   std_fiat    34803 non-null  int64\n",
            " 4   fpkt_rate   34803 non-null  int64\n",
            " 5   fbyte_rate  34803 non-null  int64\n",
            " 6   class       34803 non-null  int64\n",
            "dtypes: int64(7)\n",
            "memory usage: 1.9 MB\n"
          ],
          "name": "stdout"
        }
      ]
    },
    {
      "cell_type": "code",
      "metadata": {
        "id": "ynvluBXQc9WP"
      },
      "source": [
        "# Function to rotate arrray right by n value\n",
        "def rotateRight(arr,n):\n",
        "    return (arr[len(arr) - n:len(arr)] + arr[0:len(arr) - n])"
      ],
      "execution_count": null,
      "outputs": []
    },
    {
      "cell_type": "code",
      "metadata": {
        "id": "QSVLq7s5dZiL",
        "outputId": "06833ee4-243b-4d4e-fff2-565020879580",
        "colab": {
          "base_uri": "https://localhost:8080/",
          "height": 133
        }
      },
      "source": [
        "# Sample of how rotation works - Example of layered bitmap\n",
        "arr = ['a','b','c','d','e','f']\n",
        "print(rotateRight(arr,0))\n",
        "print(rotateRight(arr,1))\n",
        "print(rotateRight(arr,2))\n",
        "print(rotateRight(arr,3))\n",
        "print(rotateRight(arr,4))\n",
        "print(rotateRight(arr,5))\n",
        "print(rotateRight(arr,6))"
      ],
      "execution_count": null,
      "outputs": [
        {
          "output_type": "stream",
          "text": [
            "['a', 'b', 'c', 'd', 'e', 'f']\n",
            "['f', 'a', 'b', 'c', 'd', 'e']\n",
            "['e', 'f', 'a', 'b', 'c', 'd']\n",
            "['d', 'e', 'f', 'a', 'b', 'c']\n",
            "['c', 'd', 'e', 'f', 'a', 'b']\n",
            "['b', 'c', 'd', 'e', 'f', 'a']\n",
            "['a', 'b', 'c', 'd', 'e', 'f']\n"
          ],
          "name": "stdout"
        }
      ]
    },
    {
      "cell_type": "code",
      "metadata": {
        "id": "pfiEqzKyeVce"
      },
      "source": [
        "# Function to create layered bitmap and simple bitmap\n",
        "def createBitmap_Layered(attrib_list):\n",
        "    bit_arr = []\n",
        "    for i in range(len(attrib_list)+1):\n",
        "        #print(i)\n",
        "        a_list = rotateRight(attrib_list,i)\n",
        "        bit_str = ''\n",
        "        for attrib in a_list:\n",
        "            bit_str += '{0:032b}'.format(attrib)\n",
        "        bit_list = []\n",
        "        for c in bit_str:\n",
        "            bit_list.append(int(c))\n",
        "        bit_arr.append(bit_list)\n",
        "    return bit_arr\n",
        "\n",
        "def createBitmap_Single(attrib_list):\n",
        "    bit_str = ''\n",
        "    for attrib in attrib_list:\n",
        "        bit_str += '{0:032b}'.format(attrib)\n",
        "    bit_list = []\n",
        "    for c in bit_str:\n",
        "        bit_list.append(int(c))\n",
        "    return bit_list"
      ],
      "execution_count": null,
      "outputs": []
    },
    {
      "cell_type": "code",
      "metadata": {
        "id": "LQmYboMlpZv3"
      },
      "source": [
        "# Functions to Create Simple and Layered Bitmap after converting them to numpy arrays with necessary padding\n",
        "def createLayeredBitmap():\n",
        "    #converting to bitmap\n",
        "    row_list = []\n",
        "    bitmaps = []\n",
        "    bitmap_class = []\n",
        "    for i in data_df.index:\n",
        "        edict = {}\n",
        "        attrib_list = [data_df['mean_fpktl'][i],data_df['std_fpktl'][i],data_df['mean_fiat'][i],data_df['std_fiat'][i],data_df['fpkt_rate'][i],data_df['fbyte_rate'][i]]\n",
        "        bitmap = createBitmap_Layered(attrib_list)\n",
        "        bitmap_np = np.array(bitmap)\n",
        "        bitmaps.append(bitmap_np)\n",
        "        #bitmap_np = bitmap_np.reshape(192,1) \n",
        "        bitmap_class.append(data_df['class'][i])\n",
        "\n",
        "    bitmaps = np.array(bitmaps)\n",
        "    bitmap_class = np.array(bitmap_class)\n",
        "    #bitmaps = bitmaps.reshape(-1,1)\n",
        "    #bitmaps = np.expand_dims(bitmaps,axis=2)\n",
        "    bitmaps = np.expand_dims(bitmaps,axis=3)\n",
        "    input_shape = (bitmaps.shape[1],bitmaps.shape[2],bitmaps.shape[3])\n",
        "    return bitmaps,bitmap_class,input_shape\n",
        "\n",
        "def createSimpleBitmap():\n",
        "    #converting to bitmap\n",
        "    row_list = []\n",
        "    bitmaps = []\n",
        "    bitmap_class = []\n",
        "    for i in data_df.index:\n",
        "        edict = {}\n",
        "        attrib_list = [data_df['mean_fpktl'][i],data_df['std_fpktl'][i],data_df['mean_fiat'][i],data_df['std_fiat'][i],data_df['fpkt_rate'][i],data_df['fbyte_rate'][i]]\n",
        "        bitmap = createBitmap_Single(attrib_list)\n",
        "        bitmap_np = np.array(bitmap)\n",
        "        bitmaps.append(bitmap_np)\n",
        "        bitmap_np = bitmap_np.reshape(192,1) \n",
        "        bitmap_class.append(data_df['class'][i])\n",
        "\n",
        "    bitmaps = np.array(bitmaps)\n",
        "    bitmap_class = np.array(bitmap_class)\n",
        "    #bitmaps = bitmaps.reshape(-1,1)\n",
        "    bitmaps = np.expand_dims(bitmaps,axis=2)\n",
        "    bitmaps = np.expand_dims(bitmaps,axis=3)\n",
        "    input_shape = (bitmaps.shape[1],bitmaps.shape[2],bitmaps.shape[3])\n",
        "    return bitmaps,bitmap_class,input_shape"
      ],
      "execution_count": null,
      "outputs": []
    },
    {
      "cell_type": "code",
      "metadata": {
        "id": "8p9lehK1nPkI",
        "outputId": "7f3898e4-9f11-4e86-ba12-da2a8d1153e6",
        "colab": {
          "base_uri": "https://localhost:8080/",
          "height": 67
        }
      },
      "source": [
        "# Choose Layered Bitmap or Simple Bitmap Mode to continue training\n",
        "\n",
        "#bitmaps,bitmap_class,input_shape = createLayeredBitmap()\n",
        "bitmaps,bitmap_class,input_shape = createSimpleBitmap()\n",
        "print(bitmaps.shape)\n",
        "print(bitmap_class.shape)\n",
        "print(input_shape)"
      ],
      "execution_count": null,
      "outputs": [
        {
          "output_type": "stream",
          "text": [
            "(34803, 192, 1, 1)\n",
            "(34803,)\n",
            "(192, 1, 1)\n"
          ],
          "name": "stdout"
        }
      ]
    },
    {
      "cell_type": "code",
      "metadata": {
        "id": "pyzqBQkMrzY6"
      },
      "source": [
        "# Divide into train and test sets\n",
        "X = bitmaps\n",
        "y = np.ravel(bitmap_class)\n",
        "X_train, X_test, y_train, y_test = train_test_split(X,y,test_size=0.2)"
      ],
      "execution_count": null,
      "outputs": []
    },
    {
      "cell_type": "code",
      "metadata": {
        "id": "E6Cc_8rUL7WW",
        "outputId": "6555a091-8db0-4bf3-dfc0-4938737f8285",
        "colab": {
          "base_uri": "https://localhost:8080/",
          "height": 33
        }
      },
      "source": [
        "# Load Resnet Model (50,101,152)\n",
        "print(\"[INFO] preparing model...\")\n",
        "baseModel = ResNet50(weights=None, include_top=False,\n",
        "\tinput_tensor=Input(shape=input_shape))\n",
        "# baseModel = ResNet101(weights=None, include_top=False,\n",
        "# \tinput_tensor=Input(shape=input_shape))\n",
        "# baseModel = ResNet152(weights=None, include_top=False,\n",
        "# \tinput_tensor=Input(shape=input_shape))"
      ],
      "execution_count": null,
      "outputs": [
        {
          "output_type": "stream",
          "text": [
            "[INFO] preparing model...\n"
          ],
          "name": "stdout"
        }
      ]
    },
    {
      "cell_type": "code",
      "metadata": {
        "id": "qvIPRRDJMF1Q"
      },
      "source": [
        "# Adding Dense Layers at the end of resnet along with activation layer\n",
        "headModel = baseModel.output\n",
        "#headModel = AveragePooling2D(pool_size=(7, 7))(headModel)\n",
        "headModel = Flatten(name=\"flatten\")(headModel)\n",
        "headModel = Dense(256, activation=\"relu\")(headModel)\n",
        "headModel = Dropout(0.3)(headModel)\n",
        "headModel = Dense(11, activation=\"softmax\")(headModel)"
      ],
      "execution_count": null,
      "outputs": []
    },
    {
      "cell_type": "code",
      "metadata": {
        "id": "-ev0ZxzkMKty"
      },
      "source": [
        "# Define the neural network model\n",
        "model = Model(inputs=baseModel.input, outputs=headModel)"
      ],
      "execution_count": null,
      "outputs": []
    },
    {
      "cell_type": "code",
      "metadata": {
        "id": "C3QKL3LYQ3J8",
        "outputId": "ae3200e1-33ba-4edb-d06c-67f4d18e69df",
        "colab": {
          "base_uri": "https://localhost:8080/",
          "height": 1000
        }
      },
      "source": [
        "# Model Summary\n",
        "model.summary()"
      ],
      "execution_count": null,
      "outputs": [
        {
          "output_type": "stream",
          "text": [
            "Model: \"functional_1\"\n",
            "__________________________________________________________________________________________________\n",
            "Layer (type)                    Output Shape         Param #     Connected to                     \n",
            "==================================================================================================\n",
            "input_1 (InputLayer)            [(None, 192, 1, 1)]  0                                            \n",
            "__________________________________________________________________________________________________\n",
            "conv1_pad (ZeroPadding2D)       (None, 198, 7, 1)    0           input_1[0][0]                    \n",
            "__________________________________________________________________________________________________\n",
            "conv1_conv (Conv2D)             (None, 96, 1, 64)    3200        conv1_pad[0][0]                  \n",
            "__________________________________________________________________________________________________\n",
            "conv1_bn (BatchNormalization)   (None, 96, 1, 64)    256         conv1_conv[0][0]                 \n",
            "__________________________________________________________________________________________________\n",
            "conv1_relu (Activation)         (None, 96, 1, 64)    0           conv1_bn[0][0]                   \n",
            "__________________________________________________________________________________________________\n",
            "pool1_pad (ZeroPadding2D)       (None, 98, 3, 64)    0           conv1_relu[0][0]                 \n",
            "__________________________________________________________________________________________________\n",
            "pool1_pool (MaxPooling2D)       (None, 48, 1, 64)    0           pool1_pad[0][0]                  \n",
            "__________________________________________________________________________________________________\n",
            "conv2_block1_1_conv (Conv2D)    (None, 48, 1, 64)    4160        pool1_pool[0][0]                 \n",
            "__________________________________________________________________________________________________\n",
            "conv2_block1_1_bn (BatchNormali (None, 48, 1, 64)    256         conv2_block1_1_conv[0][0]        \n",
            "__________________________________________________________________________________________________\n",
            "conv2_block1_1_relu (Activation (None, 48, 1, 64)    0           conv2_block1_1_bn[0][0]          \n",
            "__________________________________________________________________________________________________\n",
            "conv2_block1_2_conv (Conv2D)    (None, 48, 1, 64)    36928       conv2_block1_1_relu[0][0]        \n",
            "__________________________________________________________________________________________________\n",
            "conv2_block1_2_bn (BatchNormali (None, 48, 1, 64)    256         conv2_block1_2_conv[0][0]        \n",
            "__________________________________________________________________________________________________\n",
            "conv2_block1_2_relu (Activation (None, 48, 1, 64)    0           conv2_block1_2_bn[0][0]          \n",
            "__________________________________________________________________________________________________\n",
            "conv2_block1_0_conv (Conv2D)    (None, 48, 1, 256)   16640       pool1_pool[0][0]                 \n",
            "__________________________________________________________________________________________________\n",
            "conv2_block1_3_conv (Conv2D)    (None, 48, 1, 256)   16640       conv2_block1_2_relu[0][0]        \n",
            "__________________________________________________________________________________________________\n",
            "conv2_block1_0_bn (BatchNormali (None, 48, 1, 256)   1024        conv2_block1_0_conv[0][0]        \n",
            "__________________________________________________________________________________________________\n",
            "conv2_block1_3_bn (BatchNormali (None, 48, 1, 256)   1024        conv2_block1_3_conv[0][0]        \n",
            "__________________________________________________________________________________________________\n",
            "conv2_block1_add (Add)          (None, 48, 1, 256)   0           conv2_block1_0_bn[0][0]          \n",
            "                                                                 conv2_block1_3_bn[0][0]          \n",
            "__________________________________________________________________________________________________\n",
            "conv2_block1_out (Activation)   (None, 48, 1, 256)   0           conv2_block1_add[0][0]           \n",
            "__________________________________________________________________________________________________\n",
            "conv2_block2_1_conv (Conv2D)    (None, 48, 1, 64)    16448       conv2_block1_out[0][0]           \n",
            "__________________________________________________________________________________________________\n",
            "conv2_block2_1_bn (BatchNormali (None, 48, 1, 64)    256         conv2_block2_1_conv[0][0]        \n",
            "__________________________________________________________________________________________________\n",
            "conv2_block2_1_relu (Activation (None, 48, 1, 64)    0           conv2_block2_1_bn[0][0]          \n",
            "__________________________________________________________________________________________________\n",
            "conv2_block2_2_conv (Conv2D)    (None, 48, 1, 64)    36928       conv2_block2_1_relu[0][0]        \n",
            "__________________________________________________________________________________________________\n",
            "conv2_block2_2_bn (BatchNormali (None, 48, 1, 64)    256         conv2_block2_2_conv[0][0]        \n",
            "__________________________________________________________________________________________________\n",
            "conv2_block2_2_relu (Activation (None, 48, 1, 64)    0           conv2_block2_2_bn[0][0]          \n",
            "__________________________________________________________________________________________________\n",
            "conv2_block2_3_conv (Conv2D)    (None, 48, 1, 256)   16640       conv2_block2_2_relu[0][0]        \n",
            "__________________________________________________________________________________________________\n",
            "conv2_block2_3_bn (BatchNormali (None, 48, 1, 256)   1024        conv2_block2_3_conv[0][0]        \n",
            "__________________________________________________________________________________________________\n",
            "conv2_block2_add (Add)          (None, 48, 1, 256)   0           conv2_block1_out[0][0]           \n",
            "                                                                 conv2_block2_3_bn[0][0]          \n",
            "__________________________________________________________________________________________________\n",
            "conv2_block2_out (Activation)   (None, 48, 1, 256)   0           conv2_block2_add[0][0]           \n",
            "__________________________________________________________________________________________________\n",
            "conv2_block3_1_conv (Conv2D)    (None, 48, 1, 64)    16448       conv2_block2_out[0][0]           \n",
            "__________________________________________________________________________________________________\n",
            "conv2_block3_1_bn (BatchNormali (None, 48, 1, 64)    256         conv2_block3_1_conv[0][0]        \n",
            "__________________________________________________________________________________________________\n",
            "conv2_block3_1_relu (Activation (None, 48, 1, 64)    0           conv2_block3_1_bn[0][0]          \n",
            "__________________________________________________________________________________________________\n",
            "conv2_block3_2_conv (Conv2D)    (None, 48, 1, 64)    36928       conv2_block3_1_relu[0][0]        \n",
            "__________________________________________________________________________________________________\n",
            "conv2_block3_2_bn (BatchNormali (None, 48, 1, 64)    256         conv2_block3_2_conv[0][0]        \n",
            "__________________________________________________________________________________________________\n",
            "conv2_block3_2_relu (Activation (None, 48, 1, 64)    0           conv2_block3_2_bn[0][0]          \n",
            "__________________________________________________________________________________________________\n",
            "conv2_block3_3_conv (Conv2D)    (None, 48, 1, 256)   16640       conv2_block3_2_relu[0][0]        \n",
            "__________________________________________________________________________________________________\n",
            "conv2_block3_3_bn (BatchNormali (None, 48, 1, 256)   1024        conv2_block3_3_conv[0][0]        \n",
            "__________________________________________________________________________________________________\n",
            "conv2_block3_add (Add)          (None, 48, 1, 256)   0           conv2_block2_out[0][0]           \n",
            "                                                                 conv2_block3_3_bn[0][0]          \n",
            "__________________________________________________________________________________________________\n",
            "conv2_block3_out (Activation)   (None, 48, 1, 256)   0           conv2_block3_add[0][0]           \n",
            "__________________________________________________________________________________________________\n",
            "conv3_block1_1_conv (Conv2D)    (None, 24, 1, 128)   32896       conv2_block3_out[0][0]           \n",
            "__________________________________________________________________________________________________\n",
            "conv3_block1_1_bn (BatchNormali (None, 24, 1, 128)   512         conv3_block1_1_conv[0][0]        \n",
            "__________________________________________________________________________________________________\n",
            "conv3_block1_1_relu (Activation (None, 24, 1, 128)   0           conv3_block1_1_bn[0][0]          \n",
            "__________________________________________________________________________________________________\n",
            "conv3_block1_2_conv (Conv2D)    (None, 24, 1, 128)   147584      conv3_block1_1_relu[0][0]        \n",
            "__________________________________________________________________________________________________\n",
            "conv3_block1_2_bn (BatchNormali (None, 24, 1, 128)   512         conv3_block1_2_conv[0][0]        \n",
            "__________________________________________________________________________________________________\n",
            "conv3_block1_2_relu (Activation (None, 24, 1, 128)   0           conv3_block1_2_bn[0][0]          \n",
            "__________________________________________________________________________________________________\n",
            "conv3_block1_0_conv (Conv2D)    (None, 24, 1, 512)   131584      conv2_block3_out[0][0]           \n",
            "__________________________________________________________________________________________________\n",
            "conv3_block1_3_conv (Conv2D)    (None, 24, 1, 512)   66048       conv3_block1_2_relu[0][0]        \n",
            "__________________________________________________________________________________________________\n",
            "conv3_block1_0_bn (BatchNormali (None, 24, 1, 512)   2048        conv3_block1_0_conv[0][0]        \n",
            "__________________________________________________________________________________________________\n",
            "conv3_block1_3_bn (BatchNormali (None, 24, 1, 512)   2048        conv3_block1_3_conv[0][0]        \n",
            "__________________________________________________________________________________________________\n",
            "conv3_block1_add (Add)          (None, 24, 1, 512)   0           conv3_block1_0_bn[0][0]          \n",
            "                                                                 conv3_block1_3_bn[0][0]          \n",
            "__________________________________________________________________________________________________\n",
            "conv3_block1_out (Activation)   (None, 24, 1, 512)   0           conv3_block1_add[0][0]           \n",
            "__________________________________________________________________________________________________\n",
            "conv3_block2_1_conv (Conv2D)    (None, 24, 1, 128)   65664       conv3_block1_out[0][0]           \n",
            "__________________________________________________________________________________________________\n",
            "conv3_block2_1_bn (BatchNormali (None, 24, 1, 128)   512         conv3_block2_1_conv[0][0]        \n",
            "__________________________________________________________________________________________________\n",
            "conv3_block2_1_relu (Activation (None, 24, 1, 128)   0           conv3_block2_1_bn[0][0]          \n",
            "__________________________________________________________________________________________________\n",
            "conv3_block2_2_conv (Conv2D)    (None, 24, 1, 128)   147584      conv3_block2_1_relu[0][0]        \n",
            "__________________________________________________________________________________________________\n",
            "conv3_block2_2_bn (BatchNormali (None, 24, 1, 128)   512         conv3_block2_2_conv[0][0]        \n",
            "__________________________________________________________________________________________________\n",
            "conv3_block2_2_relu (Activation (None, 24, 1, 128)   0           conv3_block2_2_bn[0][0]          \n",
            "__________________________________________________________________________________________________\n",
            "conv3_block2_3_conv (Conv2D)    (None, 24, 1, 512)   66048       conv3_block2_2_relu[0][0]        \n",
            "__________________________________________________________________________________________________\n",
            "conv3_block2_3_bn (BatchNormali (None, 24, 1, 512)   2048        conv3_block2_3_conv[0][0]        \n",
            "__________________________________________________________________________________________________\n",
            "conv3_block2_add (Add)          (None, 24, 1, 512)   0           conv3_block1_out[0][0]           \n",
            "                                                                 conv3_block2_3_bn[0][0]          \n",
            "__________________________________________________________________________________________________\n",
            "conv3_block2_out (Activation)   (None, 24, 1, 512)   0           conv3_block2_add[0][0]           \n",
            "__________________________________________________________________________________________________\n",
            "conv3_block3_1_conv (Conv2D)    (None, 24, 1, 128)   65664       conv3_block2_out[0][0]           \n",
            "__________________________________________________________________________________________________\n",
            "conv3_block3_1_bn (BatchNormali (None, 24, 1, 128)   512         conv3_block3_1_conv[0][0]        \n",
            "__________________________________________________________________________________________________\n",
            "conv3_block3_1_relu (Activation (None, 24, 1, 128)   0           conv3_block3_1_bn[0][0]          \n",
            "__________________________________________________________________________________________________\n",
            "conv3_block3_2_conv (Conv2D)    (None, 24, 1, 128)   147584      conv3_block3_1_relu[0][0]        \n",
            "__________________________________________________________________________________________________\n",
            "conv3_block3_2_bn (BatchNormali (None, 24, 1, 128)   512         conv3_block3_2_conv[0][0]        \n",
            "__________________________________________________________________________________________________\n",
            "conv3_block3_2_relu (Activation (None, 24, 1, 128)   0           conv3_block3_2_bn[0][0]          \n",
            "__________________________________________________________________________________________________\n",
            "conv3_block3_3_conv (Conv2D)    (None, 24, 1, 512)   66048       conv3_block3_2_relu[0][0]        \n",
            "__________________________________________________________________________________________________\n",
            "conv3_block3_3_bn (BatchNormali (None, 24, 1, 512)   2048        conv3_block3_3_conv[0][0]        \n",
            "__________________________________________________________________________________________________\n",
            "conv3_block3_add (Add)          (None, 24, 1, 512)   0           conv3_block2_out[0][0]           \n",
            "                                                                 conv3_block3_3_bn[0][0]          \n",
            "__________________________________________________________________________________________________\n",
            "conv3_block3_out (Activation)   (None, 24, 1, 512)   0           conv3_block3_add[0][0]           \n",
            "__________________________________________________________________________________________________\n",
            "conv3_block4_1_conv (Conv2D)    (None, 24, 1, 128)   65664       conv3_block3_out[0][0]           \n",
            "__________________________________________________________________________________________________\n",
            "conv3_block4_1_bn (BatchNormali (None, 24, 1, 128)   512         conv3_block4_1_conv[0][0]        \n",
            "__________________________________________________________________________________________________\n",
            "conv3_block4_1_relu (Activation (None, 24, 1, 128)   0           conv3_block4_1_bn[0][0]          \n",
            "__________________________________________________________________________________________________\n",
            "conv3_block4_2_conv (Conv2D)    (None, 24, 1, 128)   147584      conv3_block4_1_relu[0][0]        \n",
            "__________________________________________________________________________________________________\n",
            "conv3_block4_2_bn (BatchNormali (None, 24, 1, 128)   512         conv3_block4_2_conv[0][0]        \n",
            "__________________________________________________________________________________________________\n",
            "conv3_block4_2_relu (Activation (None, 24, 1, 128)   0           conv3_block4_2_bn[0][0]          \n",
            "__________________________________________________________________________________________________\n",
            "conv3_block4_3_conv (Conv2D)    (None, 24, 1, 512)   66048       conv3_block4_2_relu[0][0]        \n",
            "__________________________________________________________________________________________________\n",
            "conv3_block4_3_bn (BatchNormali (None, 24, 1, 512)   2048        conv3_block4_3_conv[0][0]        \n",
            "__________________________________________________________________________________________________\n",
            "conv3_block4_add (Add)          (None, 24, 1, 512)   0           conv3_block3_out[0][0]           \n",
            "                                                                 conv3_block4_3_bn[0][0]          \n",
            "__________________________________________________________________________________________________\n",
            "conv3_block4_out (Activation)   (None, 24, 1, 512)   0           conv3_block4_add[0][0]           \n",
            "__________________________________________________________________________________________________\n",
            "conv4_block1_1_conv (Conv2D)    (None, 12, 1, 256)   131328      conv3_block4_out[0][0]           \n",
            "__________________________________________________________________________________________________\n",
            "conv4_block1_1_bn (BatchNormali (None, 12, 1, 256)   1024        conv4_block1_1_conv[0][0]        \n",
            "__________________________________________________________________________________________________\n",
            "conv4_block1_1_relu (Activation (None, 12, 1, 256)   0           conv4_block1_1_bn[0][0]          \n",
            "__________________________________________________________________________________________________\n",
            "conv4_block1_2_conv (Conv2D)    (None, 12, 1, 256)   590080      conv4_block1_1_relu[0][0]        \n",
            "__________________________________________________________________________________________________\n",
            "conv4_block1_2_bn (BatchNormali (None, 12, 1, 256)   1024        conv4_block1_2_conv[0][0]        \n",
            "__________________________________________________________________________________________________\n",
            "conv4_block1_2_relu (Activation (None, 12, 1, 256)   0           conv4_block1_2_bn[0][0]          \n",
            "__________________________________________________________________________________________________\n",
            "conv4_block1_0_conv (Conv2D)    (None, 12, 1, 1024)  525312      conv3_block4_out[0][0]           \n",
            "__________________________________________________________________________________________________\n",
            "conv4_block1_3_conv (Conv2D)    (None, 12, 1, 1024)  263168      conv4_block1_2_relu[0][0]        \n",
            "__________________________________________________________________________________________________\n",
            "conv4_block1_0_bn (BatchNormali (None, 12, 1, 1024)  4096        conv4_block1_0_conv[0][0]        \n",
            "__________________________________________________________________________________________________\n",
            "conv4_block1_3_bn (BatchNormali (None, 12, 1, 1024)  4096        conv4_block1_3_conv[0][0]        \n",
            "__________________________________________________________________________________________________\n",
            "conv4_block1_add (Add)          (None, 12, 1, 1024)  0           conv4_block1_0_bn[0][0]          \n",
            "                                                                 conv4_block1_3_bn[0][0]          \n",
            "__________________________________________________________________________________________________\n",
            "conv4_block1_out (Activation)   (None, 12, 1, 1024)  0           conv4_block1_add[0][0]           \n",
            "__________________________________________________________________________________________________\n",
            "conv4_block2_1_conv (Conv2D)    (None, 12, 1, 256)   262400      conv4_block1_out[0][0]           \n",
            "__________________________________________________________________________________________________\n",
            "conv4_block2_1_bn (BatchNormali (None, 12, 1, 256)   1024        conv4_block2_1_conv[0][0]        \n",
            "__________________________________________________________________________________________________\n",
            "conv4_block2_1_relu (Activation (None, 12, 1, 256)   0           conv4_block2_1_bn[0][0]          \n",
            "__________________________________________________________________________________________________\n",
            "conv4_block2_2_conv (Conv2D)    (None, 12, 1, 256)   590080      conv4_block2_1_relu[0][0]        \n",
            "__________________________________________________________________________________________________\n",
            "conv4_block2_2_bn (BatchNormali (None, 12, 1, 256)   1024        conv4_block2_2_conv[0][0]        \n",
            "__________________________________________________________________________________________________\n",
            "conv4_block2_2_relu (Activation (None, 12, 1, 256)   0           conv4_block2_2_bn[0][0]          \n",
            "__________________________________________________________________________________________________\n",
            "conv4_block2_3_conv (Conv2D)    (None, 12, 1, 1024)  263168      conv4_block2_2_relu[0][0]        \n",
            "__________________________________________________________________________________________________\n",
            "conv4_block2_3_bn (BatchNormali (None, 12, 1, 1024)  4096        conv4_block2_3_conv[0][0]        \n",
            "__________________________________________________________________________________________________\n",
            "conv4_block2_add (Add)          (None, 12, 1, 1024)  0           conv4_block1_out[0][0]           \n",
            "                                                                 conv4_block2_3_bn[0][0]          \n",
            "__________________________________________________________________________________________________\n",
            "conv4_block2_out (Activation)   (None, 12, 1, 1024)  0           conv4_block2_add[0][0]           \n",
            "__________________________________________________________________________________________________\n",
            "conv4_block3_1_conv (Conv2D)    (None, 12, 1, 256)   262400      conv4_block2_out[0][0]           \n",
            "__________________________________________________________________________________________________\n",
            "conv4_block3_1_bn (BatchNormali (None, 12, 1, 256)   1024        conv4_block3_1_conv[0][0]        \n",
            "__________________________________________________________________________________________________\n",
            "conv4_block3_1_relu (Activation (None, 12, 1, 256)   0           conv4_block3_1_bn[0][0]          \n",
            "__________________________________________________________________________________________________\n",
            "conv4_block3_2_conv (Conv2D)    (None, 12, 1, 256)   590080      conv4_block3_1_relu[0][0]        \n",
            "__________________________________________________________________________________________________\n",
            "conv4_block3_2_bn (BatchNormali (None, 12, 1, 256)   1024        conv4_block3_2_conv[0][0]        \n",
            "__________________________________________________________________________________________________\n",
            "conv4_block3_2_relu (Activation (None, 12, 1, 256)   0           conv4_block3_2_bn[0][0]          \n",
            "__________________________________________________________________________________________________\n",
            "conv4_block3_3_conv (Conv2D)    (None, 12, 1, 1024)  263168      conv4_block3_2_relu[0][0]        \n",
            "__________________________________________________________________________________________________\n",
            "conv4_block3_3_bn (BatchNormali (None, 12, 1, 1024)  4096        conv4_block3_3_conv[0][0]        \n",
            "__________________________________________________________________________________________________\n",
            "conv4_block3_add (Add)          (None, 12, 1, 1024)  0           conv4_block2_out[0][0]           \n",
            "                                                                 conv4_block3_3_bn[0][0]          \n",
            "__________________________________________________________________________________________________\n",
            "conv4_block3_out (Activation)   (None, 12, 1, 1024)  0           conv4_block3_add[0][0]           \n",
            "__________________________________________________________________________________________________\n",
            "conv4_block4_1_conv (Conv2D)    (None, 12, 1, 256)   262400      conv4_block3_out[0][0]           \n",
            "__________________________________________________________________________________________________\n",
            "conv4_block4_1_bn (BatchNormali (None, 12, 1, 256)   1024        conv4_block4_1_conv[0][0]        \n",
            "__________________________________________________________________________________________________\n",
            "conv4_block4_1_relu (Activation (None, 12, 1, 256)   0           conv4_block4_1_bn[0][0]          \n",
            "__________________________________________________________________________________________________\n",
            "conv4_block4_2_conv (Conv2D)    (None, 12, 1, 256)   590080      conv4_block4_1_relu[0][0]        \n",
            "__________________________________________________________________________________________________\n",
            "conv4_block4_2_bn (BatchNormali (None, 12, 1, 256)   1024        conv4_block4_2_conv[0][0]        \n",
            "__________________________________________________________________________________________________\n",
            "conv4_block4_2_relu (Activation (None, 12, 1, 256)   0           conv4_block4_2_bn[0][0]          \n",
            "__________________________________________________________________________________________________\n",
            "conv4_block4_3_conv (Conv2D)    (None, 12, 1, 1024)  263168      conv4_block4_2_relu[0][0]        \n",
            "__________________________________________________________________________________________________\n",
            "conv4_block4_3_bn (BatchNormali (None, 12, 1, 1024)  4096        conv4_block4_3_conv[0][0]        \n",
            "__________________________________________________________________________________________________\n",
            "conv4_block4_add (Add)          (None, 12, 1, 1024)  0           conv4_block3_out[0][0]           \n",
            "                                                                 conv4_block4_3_bn[0][0]          \n",
            "__________________________________________________________________________________________________\n",
            "conv4_block4_out (Activation)   (None, 12, 1, 1024)  0           conv4_block4_add[0][0]           \n",
            "__________________________________________________________________________________________________\n",
            "conv4_block5_1_conv (Conv2D)    (None, 12, 1, 256)   262400      conv4_block4_out[0][0]           \n",
            "__________________________________________________________________________________________________\n",
            "conv4_block5_1_bn (BatchNormali (None, 12, 1, 256)   1024        conv4_block5_1_conv[0][0]        \n",
            "__________________________________________________________________________________________________\n",
            "conv4_block5_1_relu (Activation (None, 12, 1, 256)   0           conv4_block5_1_bn[0][0]          \n",
            "__________________________________________________________________________________________________\n",
            "conv4_block5_2_conv (Conv2D)    (None, 12, 1, 256)   590080      conv4_block5_1_relu[0][0]        \n",
            "__________________________________________________________________________________________________\n",
            "conv4_block5_2_bn (BatchNormali (None, 12, 1, 256)   1024        conv4_block5_2_conv[0][0]        \n",
            "__________________________________________________________________________________________________\n",
            "conv4_block5_2_relu (Activation (None, 12, 1, 256)   0           conv4_block5_2_bn[0][0]          \n",
            "__________________________________________________________________________________________________\n",
            "conv4_block5_3_conv (Conv2D)    (None, 12, 1, 1024)  263168      conv4_block5_2_relu[0][0]        \n",
            "__________________________________________________________________________________________________\n",
            "conv4_block5_3_bn (BatchNormali (None, 12, 1, 1024)  4096        conv4_block5_3_conv[0][0]        \n",
            "__________________________________________________________________________________________________\n",
            "conv4_block5_add (Add)          (None, 12, 1, 1024)  0           conv4_block4_out[0][0]           \n",
            "                                                                 conv4_block5_3_bn[0][0]          \n",
            "__________________________________________________________________________________________________\n",
            "conv4_block5_out (Activation)   (None, 12, 1, 1024)  0           conv4_block5_add[0][0]           \n",
            "__________________________________________________________________________________________________\n",
            "conv4_block6_1_conv (Conv2D)    (None, 12, 1, 256)   262400      conv4_block5_out[0][0]           \n",
            "__________________________________________________________________________________________________\n",
            "conv4_block6_1_bn (BatchNormali (None, 12, 1, 256)   1024        conv4_block6_1_conv[0][0]        \n",
            "__________________________________________________________________________________________________\n",
            "conv4_block6_1_relu (Activation (None, 12, 1, 256)   0           conv4_block6_1_bn[0][0]          \n",
            "__________________________________________________________________________________________________\n",
            "conv4_block6_2_conv (Conv2D)    (None, 12, 1, 256)   590080      conv4_block6_1_relu[0][0]        \n",
            "__________________________________________________________________________________________________\n",
            "conv4_block6_2_bn (BatchNormali (None, 12, 1, 256)   1024        conv4_block6_2_conv[0][0]        \n",
            "__________________________________________________________________________________________________\n",
            "conv4_block6_2_relu (Activation (None, 12, 1, 256)   0           conv4_block6_2_bn[0][0]          \n",
            "__________________________________________________________________________________________________\n",
            "conv4_block6_3_conv (Conv2D)    (None, 12, 1, 1024)  263168      conv4_block6_2_relu[0][0]        \n",
            "__________________________________________________________________________________________________\n",
            "conv4_block6_3_bn (BatchNormali (None, 12, 1, 1024)  4096        conv4_block6_3_conv[0][0]        \n",
            "__________________________________________________________________________________________________\n",
            "conv4_block6_add (Add)          (None, 12, 1, 1024)  0           conv4_block5_out[0][0]           \n",
            "                                                                 conv4_block6_3_bn[0][0]          \n",
            "__________________________________________________________________________________________________\n",
            "conv4_block6_out (Activation)   (None, 12, 1, 1024)  0           conv4_block6_add[0][0]           \n",
            "__________________________________________________________________________________________________\n",
            "conv5_block1_1_conv (Conv2D)    (None, 6, 1, 512)    524800      conv4_block6_out[0][0]           \n",
            "__________________________________________________________________________________________________\n",
            "conv5_block1_1_bn (BatchNormali (None, 6, 1, 512)    2048        conv5_block1_1_conv[0][0]        \n",
            "__________________________________________________________________________________________________\n",
            "conv5_block1_1_relu (Activation (None, 6, 1, 512)    0           conv5_block1_1_bn[0][0]          \n",
            "__________________________________________________________________________________________________\n",
            "conv5_block1_2_conv (Conv2D)    (None, 6, 1, 512)    2359808     conv5_block1_1_relu[0][0]        \n",
            "__________________________________________________________________________________________________\n",
            "conv5_block1_2_bn (BatchNormali (None, 6, 1, 512)    2048        conv5_block1_2_conv[0][0]        \n",
            "__________________________________________________________________________________________________\n",
            "conv5_block1_2_relu (Activation (None, 6, 1, 512)    0           conv5_block1_2_bn[0][0]          \n",
            "__________________________________________________________________________________________________\n",
            "conv5_block1_0_conv (Conv2D)    (None, 6, 1, 2048)   2099200     conv4_block6_out[0][0]           \n",
            "__________________________________________________________________________________________________\n",
            "conv5_block1_3_conv (Conv2D)    (None, 6, 1, 2048)   1050624     conv5_block1_2_relu[0][0]        \n",
            "__________________________________________________________________________________________________\n",
            "conv5_block1_0_bn (BatchNormali (None, 6, 1, 2048)   8192        conv5_block1_0_conv[0][0]        \n",
            "__________________________________________________________________________________________________\n",
            "conv5_block1_3_bn (BatchNormali (None, 6, 1, 2048)   8192        conv5_block1_3_conv[0][0]        \n",
            "__________________________________________________________________________________________________\n",
            "conv5_block1_add (Add)          (None, 6, 1, 2048)   0           conv5_block1_0_bn[0][0]          \n",
            "                                                                 conv5_block1_3_bn[0][0]          \n",
            "__________________________________________________________________________________________________\n",
            "conv5_block1_out (Activation)   (None, 6, 1, 2048)   0           conv5_block1_add[0][0]           \n",
            "__________________________________________________________________________________________________\n",
            "conv5_block2_1_conv (Conv2D)    (None, 6, 1, 512)    1049088     conv5_block1_out[0][0]           \n",
            "__________________________________________________________________________________________________\n",
            "conv5_block2_1_bn (BatchNormali (None, 6, 1, 512)    2048        conv5_block2_1_conv[0][0]        \n",
            "__________________________________________________________________________________________________\n",
            "conv5_block2_1_relu (Activation (None, 6, 1, 512)    0           conv5_block2_1_bn[0][0]          \n",
            "__________________________________________________________________________________________________\n",
            "conv5_block2_2_conv (Conv2D)    (None, 6, 1, 512)    2359808     conv5_block2_1_relu[0][0]        \n",
            "__________________________________________________________________________________________________\n",
            "conv5_block2_2_bn (BatchNormali (None, 6, 1, 512)    2048        conv5_block2_2_conv[0][0]        \n",
            "__________________________________________________________________________________________________\n",
            "conv5_block2_2_relu (Activation (None, 6, 1, 512)    0           conv5_block2_2_bn[0][0]          \n",
            "__________________________________________________________________________________________________\n",
            "conv5_block2_3_conv (Conv2D)    (None, 6, 1, 2048)   1050624     conv5_block2_2_relu[0][0]        \n",
            "__________________________________________________________________________________________________\n",
            "conv5_block2_3_bn (BatchNormali (None, 6, 1, 2048)   8192        conv5_block2_3_conv[0][0]        \n",
            "__________________________________________________________________________________________________\n",
            "conv5_block2_add (Add)          (None, 6, 1, 2048)   0           conv5_block1_out[0][0]           \n",
            "                                                                 conv5_block2_3_bn[0][0]          \n",
            "__________________________________________________________________________________________________\n",
            "conv5_block2_out (Activation)   (None, 6, 1, 2048)   0           conv5_block2_add[0][0]           \n",
            "__________________________________________________________________________________________________\n",
            "conv5_block3_1_conv (Conv2D)    (None, 6, 1, 512)    1049088     conv5_block2_out[0][0]           \n",
            "__________________________________________________________________________________________________\n",
            "conv5_block3_1_bn (BatchNormali (None, 6, 1, 512)    2048        conv5_block3_1_conv[0][0]        \n",
            "__________________________________________________________________________________________________\n",
            "conv5_block3_1_relu (Activation (None, 6, 1, 512)    0           conv5_block3_1_bn[0][0]          \n",
            "__________________________________________________________________________________________________\n",
            "conv5_block3_2_conv (Conv2D)    (None, 6, 1, 512)    2359808     conv5_block3_1_relu[0][0]        \n",
            "__________________________________________________________________________________________________\n",
            "conv5_block3_2_bn (BatchNormali (None, 6, 1, 512)    2048        conv5_block3_2_conv[0][0]        \n",
            "__________________________________________________________________________________________________\n",
            "conv5_block3_2_relu (Activation (None, 6, 1, 512)    0           conv5_block3_2_bn[0][0]          \n",
            "__________________________________________________________________________________________________\n",
            "conv5_block3_3_conv (Conv2D)    (None, 6, 1, 2048)   1050624     conv5_block3_2_relu[0][0]        \n",
            "__________________________________________________________________________________________________\n",
            "conv5_block3_3_bn (BatchNormali (None, 6, 1, 2048)   8192        conv5_block3_3_conv[0][0]        \n",
            "__________________________________________________________________________________________________\n",
            "conv5_block3_add (Add)          (None, 6, 1, 2048)   0           conv5_block2_out[0][0]           \n",
            "                                                                 conv5_block3_3_bn[0][0]          \n",
            "__________________________________________________________________________________________________\n",
            "conv5_block3_out (Activation)   (None, 6, 1, 2048)   0           conv5_block3_add[0][0]           \n",
            "__________________________________________________________________________________________________\n",
            "flatten (Flatten)               (None, 12288)        0           conv5_block3_out[0][0]           \n",
            "__________________________________________________________________________________________________\n",
            "dense (Dense)                   (None, 256)          3145984     flatten[0][0]                    \n",
            "__________________________________________________________________________________________________\n",
            "dropout (Dropout)               (None, 256)          0           dense[0][0]                      \n",
            "__________________________________________________________________________________________________\n",
            "dense_1 (Dense)                 (None, 11)           2827        dropout[0][0]                    \n",
            "==================================================================================================\n",
            "Total params: 26,730,251\n",
            "Trainable params: 26,677,131\n",
            "Non-trainable params: 53,120\n",
            "__________________________________________________________________________________________________\n"
          ],
          "name": "stdout"
        }
      ]
    },
    {
      "cell_type": "code",
      "metadata": {
        "id": "dfz3_sCkN9nJ"
      },
      "source": [
        "# Make all layers in model Trainable\n",
        "for layer in baseModel.layers:\n",
        "\tlayer.trainable = True"
      ],
      "execution_count": null,
      "outputs": []
    },
    {
      "cell_type": "code",
      "metadata": {
        "id": "PtuL3suoOAxx"
      },
      "source": [
        "# Compile the model with loss and optimizer\n",
        "model.compile(loss='sparse_categorical_crossentropy',\n",
        "              optimizer='adam',\n",
        "              metrics=['accuracy'])"
      ],
      "execution_count": null,
      "outputs": []
    },
    {
      "cell_type": "code",
      "metadata": {
        "id": "DSi_2Qg1iNmt",
        "outputId": "d010b656-0145-4c6f-ad61-5960755b9301",
        "colab": {
          "base_uri": "https://localhost:8080/",
          "height": 553
        }
      },
      "source": [
        "# Training Model\n",
        "history = model.fit(X_train, y_train,epochs=15, batch_size=256, verbose=1,validation_data=(X_test,y_test))"
      ],
      "execution_count": null,
      "outputs": [
        {
          "output_type": "stream",
          "text": [
            "Epoch 1/15\n",
            "  2/109 [..............................] - ETA: 19s - loss: 33.4152 - accuracy: 0.2207WARNING:tensorflow:Callbacks method `on_train_batch_end` is slow compared to the batch time (batch time: 0.1259s vs `on_train_batch_end` time: 0.2328s). Check your callbacks.\n",
            "109/109 [==============================] - 46s 426ms/step - loss: 2.6629 - accuracy: 0.4582 - val_loss: 2.0745 - val_accuracy: 0.4359\n",
            "Epoch 2/15\n",
            "109/109 [==============================] - 42s 384ms/step - loss: 0.7516 - accuracy: 0.7179 - val_loss: 2.4510 - val_accuracy: 0.1014\n",
            "Epoch 3/15\n",
            "109/109 [==============================] - 42s 385ms/step - loss: 0.4720 - accuracy: 0.8370 - val_loss: 2.7903 - val_accuracy: 0.1014\n",
            "Epoch 4/15\n",
            "109/109 [==============================] - 42s 385ms/step - loss: 0.3730 - accuracy: 0.8657 - val_loss: 3.5044 - val_accuracy: 0.1014\n",
            "Epoch 5/15\n",
            "109/109 [==============================] - 42s 385ms/step - loss: 0.3149 - accuracy: 0.8898 - val_loss: 3.7445 - val_accuracy: 0.1049\n",
            "Epoch 6/15\n",
            "109/109 [==============================] - 42s 385ms/step - loss: 0.2616 - accuracy: 0.9079 - val_loss: 2.6062 - val_accuracy: 0.2978\n",
            "Epoch 7/15\n",
            "109/109 [==============================] - 42s 385ms/step - loss: 0.2396 - accuracy: 0.9152 - val_loss: 0.4409 - val_accuracy: 0.8415\n",
            "Epoch 8/15\n",
            "109/109 [==============================] - 42s 385ms/step - loss: 0.2039 - accuracy: 0.9269 - val_loss: 0.2284 - val_accuracy: 0.9244\n",
            "Epoch 9/15\n",
            "109/109 [==============================] - 42s 386ms/step - loss: 0.1797 - accuracy: 0.9359 - val_loss: 0.1852 - val_accuracy: 0.9476\n",
            "Epoch 10/15\n",
            "109/109 [==============================] - 42s 386ms/step - loss: 0.1769 - accuracy: 0.9377 - val_loss: 0.2087 - val_accuracy: 0.9434\n",
            "Epoch 11/15\n",
            "109/109 [==============================] - 42s 385ms/step - loss: 0.1701 - accuracy: 0.9396 - val_loss: 0.1832 - val_accuracy: 0.9467\n",
            "Epoch 12/15\n",
            "109/109 [==============================] - 42s 385ms/step - loss: 0.1476 - accuracy: 0.9468 - val_loss: 0.1778 - val_accuracy: 0.9453\n",
            "Epoch 13/15\n",
            "109/109 [==============================] - 42s 386ms/step - loss: 0.1447 - accuracy: 0.9472 - val_loss: 0.1782 - val_accuracy: 0.9466\n",
            "Epoch 14/15\n",
            "109/109 [==============================] - 42s 385ms/step - loss: 0.1339 - accuracy: 0.9499 - val_loss: 0.1715 - val_accuracy: 0.9502\n",
            "Epoch 15/15\n",
            "109/109 [==============================] - 42s 385ms/step - loss: 0.1364 - accuracy: 0.9496 - val_loss: 0.1977 - val_accuracy: 0.9467\n"
          ],
          "name": "stdout"
        }
      ]
    },
    {
      "cell_type": "code",
      "metadata": {
        "id": "Fvgx4SBUiRXW",
        "outputId": "76fdd93d-50ab-4260-ba56-c1259b159872",
        "colab": {
          "base_uri": "https://localhost:8080/",
          "height": 590
        }
      },
      "source": [
        "# Plotting accuracy and loss\n",
        "\n",
        "%matplotlib inline\n",
        "\n",
        "import matplotlib.image  as mpimg\n",
        "import matplotlib.pyplot as plt\n",
        "\n",
        "#-----------------------------------------------------------\n",
        "# Retrieve a list of list results on training and test data\n",
        "# sets for each training epoch\n",
        "#-----------------------------------------------------------\n",
        "acc=history.history['accuracy']\n",
        "val_acc=history.history['val_accuracy']\n",
        "loss=history.history['loss']\n",
        "val_loss=history.history['val_loss']\n",
        "\n",
        "epochs=range(len(acc)) # Get number of epochs\n",
        "\n",
        "#------------------------------------------------\n",
        "# Plot training and validation accuracy per epoch\n",
        "#------------------------------------------------\n",
        "plt.plot(epochs, acc, 'r', label=\"Training Accuracy\",)\n",
        "plt.plot(epochs, val_acc, 'b', label=\"Validation Accuracy\")\n",
        "plt.xlabel(\"Epochs\")\n",
        "plt.ylabel(\"Accuracy\")\n",
        "plt.legend(loc='lower right')\n",
        "plt.ylim(0.5, 1.0)\n",
        "plt.title('Training and validation accuracy')\n",
        "plt.figure()\n",
        "\n",
        "#------------------------------------------------\n",
        "# Plot training and validation loss per epoch\n",
        "#------------------------------------------------\n",
        "plt.plot(epochs, loss, 'r', label=\"Training Loss\")\n",
        "plt.plot(epochs, val_loss, 'b', label=\"Validation Loss\")\n",
        "plt.xlabel(\"Epochs\")\n",
        "plt.ylabel(\"Loss\")\n",
        "#plt.ylim(0,0.5)\n",
        "plt.legend(loc='upper right')\n",
        "plt.figure()"
      ],
      "execution_count": null,
      "outputs": [
        {
          "output_type": "execute_result",
          "data": {
            "text/plain": [
              "<Figure size 432x288 with 0 Axes>"
            ]
          },
          "metadata": {
            "tags": []
          },
          "execution_count": 24
        },
        {
          "output_type": "display_data",
          "data": {
            "image/png": "[encoded data removed]",
            "text/plain": [
              "<Figure size 432x288 with 1 Axes>"
            ]
          },
          "metadata": {
            "tags": [],
            "needs_background": "light"
          }
        },
        {
          "output_type": "display_data",
          "data": {
            "image/png": "[encoded data removed]",
            "text/plain": [
              "<Figure size 432x288 with 1 Axes>"
            ]
          },
          "metadata": {
            "tags": [],
            "needs_background": "light"
          }
        },
        {
          "output_type": "display_data",
          "data": {
            "text/plain": [
              "<Figure size 432x288 with 0 Axes>"
            ]
          },
          "metadata": {
            "tags": []
          }
        }
      ]
    },
    {
      "cell_type": "code",
      "metadata": {
        "id": "Oa766RYUtxNx",
        "outputId": "604add7f-34ad-497a-c940-4395b6be5afe",
        "colab": {
          "base_uri": "https://localhost:8080/",
          "height": 750
        }
      },
      "source": [
        "# Generating confusion matrix and classification report\n",
        "y_pred = model.predict(X_test)\n",
        "y_pred_bool = np.argmax(y_pred, axis=1)\n",
        "print(classification_report(y_test, y_pred_bool))\n",
        "print(confusion_matrix(y_test, y_pred_bool))\n",
        "print(\"\\nMap to class id and class name: \")\n",
        "print(json.dumps(class_dict, indent=4, sort_keys=True))"
      ],
      "execution_count": null,
      "outputs": [
        {
          "output_type": "stream",
          "text": [
            "              precision    recall  f1-score   support\n",
            "\n",
            "           0       0.99      1.00      0.99       263\n",
            "           1       0.95      0.71      0.82        56\n",
            "           2       0.83      0.87      0.85       706\n",
            "           3       0.99      0.99      0.99       154\n",
            "           4       0.97      0.97      0.97      3034\n",
            "           5       0.99      0.92      0.96       519\n",
            "           6       0.99      0.98      0.99       485\n",
            "           7       0.88      0.92      0.90       484\n",
            "           8       0.91      0.93      0.92       482\n",
            "           9       0.94      0.91      0.92       392\n",
            "          10       0.98      0.93      0.96       386\n",
            "\n",
            "    accuracy                           0.95      6961\n",
            "   macro avg       0.95      0.92      0.93      6961\n",
            "weighted avg       0.95      0.95      0.95      6961\n",
            "\n",
            "[[ 263    0    0    0    0    0    0    0    0    0    0]\n",
            " [   0   40    1    1   14    0    0    0    0    0    0]\n",
            " [   3    1  612    1   68    0    0    1    0   15    5]\n",
            " [   0    0    0  153    1    0    0    0    0    0    0]\n",
            " [   0    1   75    0 2953    0    1    1    0    2    1]\n",
            " [   0    0    1    0    0  480    0   31    7    0    0]\n",
            " [   0    0    2    0    3    0  477    1    0    2    0]\n",
            " [   0    0    1    0    1    2    0  445   35    0    0]\n",
            " [   0    0    2    0    0    4    0   25  450    0    1]\n",
            " [   0    0   24    0    7    0    4    0    0  357    0]\n",
            " [   0    0   19    0    3    0    0    0    0    4  360]]\n",
            "\n",
            "Map to class id and class name: \n",
            "{\n",
            "    \"0\": \"DNS\",\n",
            "    \"1\": \"FTP\",\n",
            "    \"2\": \"HTTP\",\n",
            "    \"3\": \"TELNET\",\n",
            "    \"4\": \"lime\",\n",
            "    \"5\": \"localForwarding\",\n",
            "    \"6\": \"remoteForwarding\",\n",
            "    \"7\": \"scp\",\n",
            "    \"8\": \"sftp\",\n",
            "    \"9\": \"shell\",\n",
            "    \"10\": \"x11\"\n",
            "}\n"
          ],
          "name": "stdout"
        }
      ]
    },
    {
      "cell_type": "code",
      "metadata": {
        "id": "DSMUWUtEuX6_"
      },
      "source": [
        ""
      ],
      "execution_count": null,
      "outputs": []
    }
  ]
}
